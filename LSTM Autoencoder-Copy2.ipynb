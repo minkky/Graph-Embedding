{
 "cells": [
  {
   "cell_type": "code",
   "execution_count": 11,
   "metadata": {},
   "outputs": [],
   "source": [
    "import numpy as np\n",
    "import glob, os\n",
    "from keras.models import Sequential, Model\n",
    "from keras.layers import LSTM, Input, Dense, RepeatVector, TimeDistributed\n",
    "from keras.preprocessing import sequence\n",
    "from sklearn.model_selection import train_test_split\n",
    "from ast import literal_eval"
   ]
  },
  {
   "cell_type": "code",
   "execution_count": 3,
   "metadata": {},
   "outputs": [],
   "source": [
    "dir = './sequence/*'"
   ]
  },
  {
   "cell_type": "code",
   "execution_count": 4,
   "metadata": {},
   "outputs": [],
   "source": [
    "# file read\n",
    "all_data = []\n",
    "sequence_length = []\n",
    "for file in sorted(glob.glob(dir)):\n",
    "    datasets = []\n",
    "    for f in open(file, 'r'):\n",
    "        f = f.replace(']', '').replace('[', '').replace('\\n','')\n",
    "        (u, v, w) = f.split(',')\n",
    "        datasets.append([int(u), int(v), float(w)])\n",
    "    sequence_length.append(len(datasets))\n",
    "    all_data.append(datasets)\n",
    "#all_data = np.array(all_data)"
   ]
  },
  {
   "cell_type": "code",
   "execution_count": 5,
   "metadata": {},
   "outputs": [],
   "source": [
    "max_sequence_length = max(sequence_length)\n",
    "n_features = 3\n",
    "batch_size = 540\n",
    "epochs = 1000"
   ]
  },
  {
   "cell_type": "code",
   "execution_count": 6,
   "metadata": {},
   "outputs": [],
   "source": [
    "# timesteps 맞춰주기 위해서 padding 추가\n",
    "all_data = sequence.pad_sequences(all_data, padding='post', maxlen = max_sequence_length)"
   ]
  },
  {
   "cell_type": "code",
   "execution_count": 7,
   "metadata": {},
   "outputs": [],
   "source": [
    "x_train, x_test = train_test_split(all_data, test_size = 0.2)"
   ]
  },
  {
   "cell_type": "code",
   "execution_count": 12,
   "metadata": {},
   "outputs": [],
   "source": [
    "inputs = Input(shape=(41, 3))\n",
    "encoded = LSTM(100)(inputs)\n",
    "\n",
    "decoded = RepeatVector(41)(encoded)\n",
    "decoded = LSTM(3, return_sequences=True)(decoded)\n",
    "\n",
    "sequence_autoencoder = Model(inputs, decoded)\n",
    "encoder = Model(inputs, encoded)\n"
   ]
  },
  {
   "cell_type": "code",
   "execution_count": 30,
   "metadata": {},
   "outputs": [],
   "source": [
    "inputs = Input(shape=(None, 3))\n",
    "encoded = LSTM(128, return_sequences=True)(inputs)\n",
    "encoded = LSTM(64, return_sequences=True)(encoded)\n",
    "encoded = LSTM(32, return_sequences=True)(encoded)\n",
    "encoded = LSTM(32)(encoded)\n",
    "\n",
    "decoded = RepeatVector(41)(encoded)\n",
    "decoded = LSTM(3, return_sequences=True)(decoded)\n",
    "\n",
    "sequence_autoencoder = Model(inputs, decoded)\n",
    "encoder = Model(inputs, encoded)\n"
   ]
  },
  {
   "cell_type": "code",
   "execution_count": 31,
   "metadata": {},
   "outputs": [],
   "source": [
    "sequence_autoencoder.compile(loss='mean_squared_error', optimizer='adam')"
   ]
  },
  {
   "cell_type": "code",
   "execution_count": 32,
   "metadata": {
    "scrolled": true
   },
   "outputs": [
    {
     "name": "stdout",
     "output_type": "stream",
     "text": [
      "Train on 540 samples, validate on 135 samples\n",
      "Epoch 1/1000\n",
      "540/540 [==============================] - 3s 6ms/step - loss: 12.7997 - val_loss: 12.0235\n",
      "Epoch 2/1000\n",
      "540/540 [==============================] - 1s 2ms/step - loss: 11.4575 - val_loss: 11.0746\n",
      "Epoch 3/1000\n",
      "540/540 [==============================] - 1s 1ms/step - loss: 10.8549 - val_loss: 10.8485\n",
      "Epoch 4/1000\n",
      "540/540 [==============================] - 1s 2ms/step - loss: 10.7683 - val_loss: 10.8232\n",
      "Epoch 5/1000\n",
      "540/540 [==============================] - 1s 2ms/step - loss: 10.7475 - val_loss: 10.8094\n",
      "Epoch 6/1000\n",
      "540/540 [==============================] - 1s 2ms/step - loss: 10.7369 - val_loss: 10.8024\n",
      "Epoch 7/1000\n",
      "540/540 [==============================] - 1s 2ms/step - loss: 10.7305 - val_loss: 10.7975\n",
      "Epoch 8/1000\n",
      "540/540 [==============================] - 1s 2ms/step - loss: 10.7272 - val_loss: 10.7961\n",
      "Epoch 9/1000\n",
      "540/540 [==============================] - 1s 2ms/step - loss: 10.7259 - val_loss: 10.7951\n",
      "Epoch 10/1000\n",
      "540/540 [==============================] - 1s 2ms/step - loss: 10.7250 - val_loss: 10.7944\n",
      "Epoch 11/1000\n",
      "540/540 [==============================] - 1s 2ms/step - loss: 10.7244 - val_loss: 10.7938\n",
      "Epoch 12/1000\n",
      "540/540 [==============================] - 1s 2ms/step - loss: 10.7238 - val_loss: 10.7933\n",
      "Epoch 13/1000\n",
      "540/540 [==============================] - 1s 2ms/step - loss: 10.7234 - val_loss: 10.7930\n",
      "Epoch 14/1000\n",
      "540/540 [==============================] - 1s 2ms/step - loss: 10.7231 - val_loss: 10.7928\n",
      "Epoch 15/1000\n",
      "540/540 [==============================] - 1s 2ms/step - loss: 10.7229 - val_loss: 10.7926\n",
      "Epoch 16/1000\n",
      "540/540 [==============================] - 1s 2ms/step - loss: 10.7228 - val_loss: 10.7926\n",
      "Epoch 17/1000\n",
      "540/540 [==============================] - 1s 2ms/step - loss: 10.7227 - val_loss: 10.7925\n",
      "Epoch 18/1000\n",
      "540/540 [==============================] - 1s 2ms/step - loss: 10.7226 - val_loss: 10.7925\n",
      "Epoch 19/1000\n",
      "540/540 [==============================] - 1s 2ms/step - loss: 10.7226 - val_loss: 10.7924\n",
      "Epoch 20/1000\n",
      "540/540 [==============================] - 1s 2ms/step - loss: 10.7226 - val_loss: 10.7924\n",
      "Epoch 21/1000\n",
      "540/540 [==============================] - 1s 2ms/step - loss: 10.7225 - val_loss: 10.7923\n",
      "Epoch 22/1000\n",
      "540/540 [==============================] - 1s 2ms/step - loss: 10.7225 - val_loss: 10.7923\n",
      "Epoch 23/1000\n",
      "540/540 [==============================] - 1s 2ms/step - loss: 10.7224 - val_loss: 10.7923\n",
      "Epoch 24/1000\n",
      "540/540 [==============================] - 1s 2ms/step - loss: 10.7224 - val_loss: 10.7923\n",
      "Epoch 25/1000\n",
      "540/540 [==============================] - 1s 2ms/step - loss: 10.7224 - val_loss: 10.7922\n",
      "Epoch 26/1000\n",
      "540/540 [==============================] - 1s 2ms/step - loss: 10.7224 - val_loss: 10.7922\n",
      "Epoch 27/1000\n",
      "540/540 [==============================] - 1s 2ms/step - loss: 10.7223 - val_loss: 10.7922\n",
      "Epoch 28/1000\n",
      "540/540 [==============================] - 1s 2ms/step - loss: 10.7223 - val_loss: 10.7922\n",
      "Epoch 29/1000\n",
      "540/540 [==============================] - 1s 2ms/step - loss: 10.7223 - val_loss: 10.7922\n",
      "Epoch 30/1000\n",
      "540/540 [==============================] - 1s 2ms/step - loss: 10.7223 - val_loss: 10.7921\n",
      "Epoch 31/1000\n",
      "540/540 [==============================] - 1s 2ms/step - loss: 10.7223 - val_loss: 10.7921\n",
      "Epoch 32/1000\n",
      "540/540 [==============================] - 1s 2ms/step - loss: 10.7223 - val_loss: 10.7921\n",
      "Epoch 33/1000\n",
      "540/540 [==============================] - 1s 2ms/step - loss: 10.7222 - val_loss: 10.7921\n",
      "Epoch 34/1000\n",
      "540/540 [==============================] - 1s 2ms/step - loss: 10.7222 - val_loss: 10.7921\n",
      "Epoch 35/1000\n",
      "540/540 [==============================] - 1s 2ms/step - loss: 10.7222 - val_loss: 10.7921\n",
      "Epoch 36/1000\n",
      "540/540 [==============================] - 1s 2ms/step - loss: 10.7222 - val_loss: 10.7921\n",
      "Epoch 37/1000\n",
      "540/540 [==============================] - 1s 2ms/step - loss: 10.7222 - val_loss: 10.7921\n",
      "Epoch 38/1000\n",
      "540/540 [==============================] - 1s 2ms/step - loss: 10.7222 - val_loss: 10.7920\n",
      "Epoch 39/1000\n",
      "540/540 [==============================] - 1s 2ms/step - loss: 10.7222 - val_loss: 10.7920\n",
      "Epoch 40/1000\n",
      "540/540 [==============================] - 1s 2ms/step - loss: 10.7222 - val_loss: 10.7920\n",
      "Epoch 41/1000\n",
      "540/540 [==============================] - 1s 2ms/step - loss: 10.7221 - val_loss: 10.7920\n",
      "Epoch 42/1000\n",
      "540/540 [==============================] - 1s 2ms/step - loss: 10.7221 - val_loss: 10.7920\n",
      "Epoch 43/1000\n",
      "540/540 [==============================] - 1s 2ms/step - loss: 10.7221 - val_loss: 10.7920\n",
      "Epoch 44/1000\n",
      "540/540 [==============================] - 1s 2ms/step - loss: 10.7221 - val_loss: 10.7920\n",
      "Epoch 45/1000\n",
      "540/540 [==============================] - 1s 2ms/step - loss: 10.7221 - val_loss: 10.7920\n",
      "Epoch 46/1000\n",
      "540/540 [==============================] - 1s 2ms/step - loss: 10.7221 - val_loss: 10.7920\n",
      "Epoch 47/1000\n",
      "540/540 [==============================] - 1s 2ms/step - loss: 10.7221 - val_loss: 10.7920\n",
      "Epoch 48/1000\n",
      "540/540 [==============================] - 1s 2ms/step - loss: 10.7221 - val_loss: 10.7920\n",
      "Epoch 49/1000\n",
      "540/540 [==============================] - 1s 2ms/step - loss: 10.7221 - val_loss: 10.7920\n",
      "Epoch 50/1000\n",
      "540/540 [==============================] - 1s 2ms/step - loss: 10.7221 - val_loss: 10.7920\n",
      "Epoch 51/1000\n",
      "540/540 [==============================] - 1s 2ms/step - loss: 10.7221 - val_loss: 10.7920\n",
      "Epoch 52/1000\n",
      "540/540 [==============================] - 1s 2ms/step - loss: 10.7221 - val_loss: 10.7920\n",
      "Epoch 53/1000\n",
      "540/540 [==============================] - 1s 2ms/step - loss: 10.7221 - val_loss: 10.7919\n",
      "Epoch 54/1000\n",
      "540/540 [==============================] - 1s 2ms/step - loss: 10.7221 - val_loss: 10.7919\n",
      "Epoch 55/1000\n",
      "540/540 [==============================] - 1s 2ms/step - loss: 10.7220 - val_loss: 10.7919\n",
      "Epoch 56/1000\n",
      "540/540 [==============================] - 1s 2ms/step - loss: 10.7220 - val_loss: 10.7919\n",
      "Epoch 57/1000\n",
      "540/540 [==============================] - 1s 2ms/step - loss: 10.7220 - val_loss: 10.7919\n",
      "Epoch 58/1000\n",
      "540/540 [==============================] - 1s 2ms/step - loss: 10.7220 - val_loss: 10.7919\n",
      "Epoch 59/1000\n",
      "540/540 [==============================] - 1s 2ms/step - loss: 10.7220 - val_loss: 10.7919\n",
      "Epoch 60/1000\n",
      "540/540 [==============================] - 1s 2ms/step - loss: 10.7220 - val_loss: 10.7919\n",
      "Epoch 61/1000\n",
      "540/540 [==============================] - 1s 2ms/step - loss: 10.7220 - val_loss: 10.7919\n",
      "Epoch 62/1000\n",
      "540/540 [==============================] - 1s 2ms/step - loss: 10.7220 - val_loss: 10.7919\n",
      "Epoch 63/1000\n",
      "540/540 [==============================] - 1s 2ms/step - loss: 10.7220 - val_loss: 10.7919\n",
      "Epoch 64/1000\n",
      "540/540 [==============================] - 1s 2ms/step - loss: 10.7220 - val_loss: 10.7919\n",
      "Epoch 65/1000\n",
      "540/540 [==============================] - 1s 2ms/step - loss: 10.7220 - val_loss: 10.7919\n",
      "Epoch 66/1000\n",
      "540/540 [==============================] - 1s 2ms/step - loss: 10.7220 - val_loss: 10.7919\n",
      "Epoch 67/1000\n",
      "540/540 [==============================] - 1s 2ms/step - loss: 10.7220 - val_loss: 10.7919\n",
      "Epoch 68/1000\n",
      "540/540 [==============================] - 1s 2ms/step - loss: 10.7220 - val_loss: 10.7919\n",
      "Epoch 69/1000\n",
      "540/540 [==============================] - 1s 2ms/step - loss: 10.7220 - val_loss: 10.7919\n",
      "Epoch 70/1000\n",
      "540/540 [==============================] - 1s 2ms/step - loss: 10.7220 - val_loss: 10.7919\n",
      "Epoch 71/1000\n",
      "540/540 [==============================] - 1s 2ms/step - loss: 10.7220 - val_loss: 10.7919\n",
      "Epoch 72/1000\n",
      "540/540 [==============================] - 1s 2ms/step - loss: 10.7220 - val_loss: 10.7919\n",
      "Epoch 73/1000\n",
      "540/540 [==============================] - 1s 2ms/step - loss: 10.7220 - val_loss: 10.7919\n",
      "Epoch 74/1000\n",
      "540/540 [==============================] - 1s 2ms/step - loss: 10.7220 - val_loss: 10.7919\n",
      "Epoch 75/1000\n",
      "540/540 [==============================] - 1s 2ms/step - loss: 10.7220 - val_loss: 10.7919\n",
      "Epoch 76/1000\n",
      "540/540 [==============================] - 1s 2ms/step - loss: 10.7220 - val_loss: 10.7919\n",
      "Epoch 77/1000\n",
      "540/540 [==============================] - 1s 2ms/step - loss: 10.7220 - val_loss: 10.7919\n",
      "Epoch 78/1000\n"
     ]
    },
    {
     "name": "stdout",
     "output_type": "stream",
     "text": [
      "540/540 [==============================] - 1s 2ms/step - loss: 10.7220 - val_loss: 10.7919\n",
      "Epoch 79/1000\n",
      "540/540 [==============================] - 1s 2ms/step - loss: 10.7220 - val_loss: 10.7919\n",
      "Epoch 80/1000\n",
      "540/540 [==============================] - 1s 2ms/step - loss: 10.7220 - val_loss: 10.7919\n",
      "Epoch 81/1000\n",
      "540/540 [==============================] - 1s 2ms/step - loss: 10.7220 - val_loss: 10.7919\n",
      "Epoch 82/1000\n",
      "540/540 [==============================] - 1s 2ms/step - loss: 10.7220 - val_loss: 10.7919\n",
      "Epoch 83/1000\n",
      "540/540 [==============================] - 1s 2ms/step - loss: 10.7220 - val_loss: 10.7919\n",
      "Epoch 84/1000\n",
      "540/540 [==============================] - 1s 2ms/step - loss: 10.7220 - val_loss: 10.7919\n",
      "Epoch 85/1000\n",
      "540/540 [==============================] - 1s 2ms/step - loss: 10.7220 - val_loss: 10.7919\n",
      "Epoch 86/1000\n",
      "540/540 [==============================] - 1s 2ms/step - loss: 10.7220 - val_loss: 10.7919\n",
      "Epoch 87/1000\n",
      "540/540 [==============================] - 1s 2ms/step - loss: 10.7220 - val_loss: 10.7919\n",
      "Epoch 88/1000\n",
      "540/540 [==============================] - 1s 2ms/step - loss: 10.7220 - val_loss: 10.7919\n",
      "Epoch 89/1000\n",
      "540/540 [==============================] - 1s 2ms/step - loss: 10.7220 - val_loss: 10.7919\n",
      "Epoch 90/1000\n",
      "540/540 [==============================] - 1s 2ms/step - loss: 10.7220 - val_loss: 10.7919\n",
      "Epoch 91/1000\n",
      "540/540 [==============================] - 1s 2ms/step - loss: 10.7219 - val_loss: 10.7919\n",
      "Epoch 92/1000\n",
      "540/540 [==============================] - 1s 2ms/step - loss: 10.7219 - val_loss: 10.7918\n",
      "Epoch 93/1000\n",
      "540/540 [==============================] - 1s 2ms/step - loss: 10.7219 - val_loss: 10.7918\n",
      "Epoch 94/1000\n",
      "540/540 [==============================] - 1s 2ms/step - loss: 10.7219 - val_loss: 10.7918\n",
      "Epoch 95/1000\n",
      "540/540 [==============================] - 1s 2ms/step - loss: 10.7219 - val_loss: 10.7918\n",
      "Epoch 96/1000\n",
      "540/540 [==============================] - 1s 2ms/step - loss: 10.7219 - val_loss: 10.7918\n",
      "Epoch 97/1000\n",
      "540/540 [==============================] - 1s 2ms/step - loss: 10.7219 - val_loss: 10.7918\n",
      "Epoch 98/1000\n",
      "540/540 [==============================] - 1s 2ms/step - loss: 10.7219 - val_loss: 10.7918\n",
      "Epoch 99/1000\n",
      "540/540 [==============================] - 1s 2ms/step - loss: 10.7219 - val_loss: 10.7918\n",
      "Epoch 100/1000\n",
      "540/540 [==============================] - 1s 2ms/step - loss: 10.7219 - val_loss: 10.7918\n",
      "Epoch 101/1000\n",
      "540/540 [==============================] - 1s 2ms/step - loss: 10.7219 - val_loss: 10.7918\n",
      "Epoch 102/1000\n",
      "540/540 [==============================] - 1s 2ms/step - loss: 10.7219 - val_loss: 10.7918\n",
      "Epoch 103/1000\n",
      "540/540 [==============================] - 1s 2ms/step - loss: 10.7219 - val_loss: 10.7918\n",
      "Epoch 104/1000\n",
      "540/540 [==============================] - 1s 2ms/step - loss: 10.7219 - val_loss: 10.7918\n",
      "Epoch 105/1000\n",
      "540/540 [==============================] - 1s 2ms/step - loss: 10.7219 - val_loss: 10.7918\n",
      "Epoch 106/1000\n",
      "540/540 [==============================] - 1s 1ms/step - loss: 10.7219 - val_loss: 10.7918\n",
      "Epoch 107/1000\n",
      "540/540 [==============================] - 1s 2ms/step - loss: 10.7219 - val_loss: 10.7918\n",
      "Epoch 108/1000\n",
      "540/540 [==============================] - 1s 2ms/step - loss: 10.7219 - val_loss: 10.7918\n",
      "Epoch 109/1000\n",
      "540/540 [==============================] - 1s 2ms/step - loss: 10.7219 - val_loss: 10.7918\n",
      "Epoch 110/1000\n",
      "540/540 [==============================] - 1s 2ms/step - loss: 10.7219 - val_loss: 10.7918\n",
      "Epoch 111/1000\n",
      "540/540 [==============================] - 1s 2ms/step - loss: 10.7219 - val_loss: 10.7918\n",
      "Epoch 112/1000\n",
      "540/540 [==============================] - 1s 2ms/step - loss: 10.7219 - val_loss: 10.7918\n",
      "Epoch 113/1000\n",
      "540/540 [==============================] - 1s 2ms/step - loss: 10.7219 - val_loss: 10.7918\n",
      "Epoch 114/1000\n",
      "540/540 [==============================] - 1s 2ms/step - loss: 10.7219 - val_loss: 10.7918\n",
      "Epoch 115/1000\n",
      "540/540 [==============================] - 1s 2ms/step - loss: 10.7219 - val_loss: 10.7918\n",
      "Epoch 116/1000\n",
      "540/540 [==============================] - 1s 2ms/step - loss: 10.7219 - val_loss: 10.7918\n",
      "Epoch 117/1000\n",
      "540/540 [==============================] - 1s 2ms/step - loss: 10.7219 - val_loss: 10.7918\n",
      "Epoch 118/1000\n",
      "540/540 [==============================] - 1s 2ms/step - loss: 10.7219 - val_loss: 10.7918\n",
      "Epoch 119/1000\n",
      "540/540 [==============================] - 1s 2ms/step - loss: 10.7219 - val_loss: 10.7918\n",
      "Epoch 120/1000\n",
      "540/540 [==============================] - 1s 2ms/step - loss: 10.7219 - val_loss: 10.7918\n",
      "Epoch 121/1000\n",
      "540/540 [==============================] - 1s 2ms/step - loss: 10.7219 - val_loss: 10.7918\n",
      "Epoch 122/1000\n",
      "540/540 [==============================] - 1s 2ms/step - loss: 10.7219 - val_loss: 10.7918\n",
      "Epoch 123/1000\n",
      "540/540 [==============================] - 1s 2ms/step - loss: 10.7219 - val_loss: 10.7918\n",
      "Epoch 124/1000\n",
      "540/540 [==============================] - 1s 2ms/step - loss: 10.7219 - val_loss: 10.7918\n",
      "Epoch 125/1000\n",
      "540/540 [==============================] - 1s 2ms/step - loss: 10.7219 - val_loss: 10.7918\n",
      "Epoch 126/1000\n",
      " 96/540 [====>.........................] - ETA: 0s - loss: 10.9806"
     ]
    },
    {
     "ename": "KeyboardInterrupt",
     "evalue": "",
     "output_type": "error",
     "traceback": [
      "\u001b[0;31m---------------------------------------------------------------------------\u001b[0m",
      "\u001b[0;31mKeyboardInterrupt\u001b[0m                         Traceback (most recent call last)",
      "\u001b[0;32m<ipython-input-32-01268e2e3ee4>\u001b[0m in \u001b[0;36m<module>\u001b[0;34m\u001b[0m\n\u001b[0;32m----> 1\u001b[0;31m \u001b[0msequence_autoencoder\u001b[0m\u001b[0;34m.\u001b[0m\u001b[0mfit\u001b[0m\u001b[0;34m(\u001b[0m\u001b[0mx_train\u001b[0m\u001b[0;34m,\u001b[0m \u001b[0mx_train\u001b[0m\u001b[0;34m,\u001b[0m \u001b[0mepochs\u001b[0m\u001b[0;34m=\u001b[0m\u001b[0;36m1000\u001b[0m\u001b[0;34m,\u001b[0m \u001b[0mvalidation_data\u001b[0m\u001b[0;34m=\u001b[0m\u001b[0;34m(\u001b[0m\u001b[0mx_test\u001b[0m\u001b[0;34m,\u001b[0m \u001b[0mx_test\u001b[0m\u001b[0;34m)\u001b[0m\u001b[0;34m)\u001b[0m\u001b[0;34m\u001b[0m\u001b[0;34m\u001b[0m\u001b[0m\n\u001b[0m",
      "\u001b[0;32m~/.local/lib/python3.7/site-packages/keras/engine/training.py\u001b[0m in \u001b[0;36mfit\u001b[0;34m(self, x, y, batch_size, epochs, verbose, callbacks, validation_split, validation_data, shuffle, class_weight, sample_weight, initial_epoch, steps_per_epoch, validation_steps, validation_freq, max_queue_size, workers, use_multiprocessing, **kwargs)\u001b[0m\n\u001b[1;32m   1176\u001b[0m                                         \u001b[0msteps_per_epoch\u001b[0m\u001b[0;34m=\u001b[0m\u001b[0msteps_per_epoch\u001b[0m\u001b[0;34m,\u001b[0m\u001b[0;34m\u001b[0m\u001b[0;34m\u001b[0m\u001b[0m\n\u001b[1;32m   1177\u001b[0m                                         \u001b[0mvalidation_steps\u001b[0m\u001b[0;34m=\u001b[0m\u001b[0mvalidation_steps\u001b[0m\u001b[0;34m,\u001b[0m\u001b[0;34m\u001b[0m\u001b[0;34m\u001b[0m\u001b[0m\n\u001b[0;32m-> 1178\u001b[0;31m                                         validation_freq=validation_freq)\n\u001b[0m\u001b[1;32m   1179\u001b[0m \u001b[0;34m\u001b[0m\u001b[0m\n\u001b[1;32m   1180\u001b[0m     def evaluate(self,\n",
      "\u001b[0;32m~/.local/lib/python3.7/site-packages/keras/engine/training_arrays.py\u001b[0m in \u001b[0;36mfit_loop\u001b[0;34m(model, fit_function, fit_inputs, out_labels, batch_size, epochs, verbose, callbacks, val_function, val_inputs, shuffle, callback_metrics, initial_epoch, steps_per_epoch, validation_steps, validation_freq)\u001b[0m\n\u001b[1;32m    202\u001b[0m                     \u001b[0mins_batch\u001b[0m\u001b[0;34m[\u001b[0m\u001b[0mi\u001b[0m\u001b[0;34m]\u001b[0m \u001b[0;34m=\u001b[0m \u001b[0mins_batch\u001b[0m\u001b[0;34m[\u001b[0m\u001b[0mi\u001b[0m\u001b[0;34m]\u001b[0m\u001b[0;34m.\u001b[0m\u001b[0mtoarray\u001b[0m\u001b[0;34m(\u001b[0m\u001b[0;34m)\u001b[0m\u001b[0;34m\u001b[0m\u001b[0;34m\u001b[0m\u001b[0m\n\u001b[1;32m    203\u001b[0m \u001b[0;34m\u001b[0m\u001b[0m\n\u001b[0;32m--> 204\u001b[0;31m                 \u001b[0mouts\u001b[0m \u001b[0;34m=\u001b[0m \u001b[0mfit_function\u001b[0m\u001b[0;34m(\u001b[0m\u001b[0mins_batch\u001b[0m\u001b[0;34m)\u001b[0m\u001b[0;34m\u001b[0m\u001b[0;34m\u001b[0m\u001b[0m\n\u001b[0m\u001b[1;32m    205\u001b[0m                 \u001b[0mouts\u001b[0m \u001b[0;34m=\u001b[0m \u001b[0mto_list\u001b[0m\u001b[0;34m(\u001b[0m\u001b[0mouts\u001b[0m\u001b[0;34m)\u001b[0m\u001b[0;34m\u001b[0m\u001b[0;34m\u001b[0m\u001b[0m\n\u001b[1;32m    206\u001b[0m                 \u001b[0;32mfor\u001b[0m \u001b[0ml\u001b[0m\u001b[0;34m,\u001b[0m \u001b[0mo\u001b[0m \u001b[0;32min\u001b[0m \u001b[0mzip\u001b[0m\u001b[0;34m(\u001b[0m\u001b[0mout_labels\u001b[0m\u001b[0;34m,\u001b[0m \u001b[0mouts\u001b[0m\u001b[0;34m)\u001b[0m\u001b[0;34m:\u001b[0m\u001b[0;34m\u001b[0m\u001b[0;34m\u001b[0m\u001b[0m\n",
      "\u001b[0;32m~/.local/lib/python3.7/site-packages/keras/backend/tensorflow_backend.py\u001b[0m in \u001b[0;36m__call__\u001b[0;34m(self, inputs)\u001b[0m\n\u001b[1;32m   2977\u001b[0m                     \u001b[0;32mreturn\u001b[0m \u001b[0mself\u001b[0m\u001b[0;34m.\u001b[0m\u001b[0m_legacy_call\u001b[0m\u001b[0;34m(\u001b[0m\u001b[0minputs\u001b[0m\u001b[0;34m)\u001b[0m\u001b[0;34m\u001b[0m\u001b[0;34m\u001b[0m\u001b[0m\n\u001b[1;32m   2978\u001b[0m \u001b[0;34m\u001b[0m\u001b[0m\n\u001b[0;32m-> 2979\u001b[0;31m             \u001b[0;32mreturn\u001b[0m \u001b[0mself\u001b[0m\u001b[0;34m.\u001b[0m\u001b[0m_call\u001b[0m\u001b[0;34m(\u001b[0m\u001b[0minputs\u001b[0m\u001b[0;34m)\u001b[0m\u001b[0;34m\u001b[0m\u001b[0;34m\u001b[0m\u001b[0m\n\u001b[0m\u001b[1;32m   2980\u001b[0m         \u001b[0;32melse\u001b[0m\u001b[0;34m:\u001b[0m\u001b[0;34m\u001b[0m\u001b[0;34m\u001b[0m\u001b[0m\n\u001b[1;32m   2981\u001b[0m             \u001b[0;32mif\u001b[0m \u001b[0mpy_any\u001b[0m\u001b[0;34m(\u001b[0m\u001b[0mis_tensor\u001b[0m\u001b[0;34m(\u001b[0m\u001b[0mx\u001b[0m\u001b[0;34m)\u001b[0m \u001b[0;32mfor\u001b[0m \u001b[0mx\u001b[0m \u001b[0;32min\u001b[0m \u001b[0minputs\u001b[0m\u001b[0;34m)\u001b[0m\u001b[0;34m:\u001b[0m\u001b[0;34m\u001b[0m\u001b[0;34m\u001b[0m\u001b[0m\n",
      "\u001b[0;32m~/.local/lib/python3.7/site-packages/keras/backend/tensorflow_backend.py\u001b[0m in \u001b[0;36m_call\u001b[0;34m(self, inputs)\u001b[0m\n\u001b[1;32m   2935\u001b[0m             \u001b[0mfetched\u001b[0m \u001b[0;34m=\u001b[0m \u001b[0mself\u001b[0m\u001b[0;34m.\u001b[0m\u001b[0m_callable_fn\u001b[0m\u001b[0;34m(\u001b[0m\u001b[0;34m*\u001b[0m\u001b[0marray_vals\u001b[0m\u001b[0;34m,\u001b[0m \u001b[0mrun_metadata\u001b[0m\u001b[0;34m=\u001b[0m\u001b[0mself\u001b[0m\u001b[0;34m.\u001b[0m\u001b[0mrun_metadata\u001b[0m\u001b[0;34m)\u001b[0m\u001b[0;34m\u001b[0m\u001b[0;34m\u001b[0m\u001b[0m\n\u001b[1;32m   2936\u001b[0m         \u001b[0;32melse\u001b[0m\u001b[0;34m:\u001b[0m\u001b[0;34m\u001b[0m\u001b[0;34m\u001b[0m\u001b[0m\n\u001b[0;32m-> 2937\u001b[0;31m             \u001b[0mfetched\u001b[0m \u001b[0;34m=\u001b[0m \u001b[0mself\u001b[0m\u001b[0;34m.\u001b[0m\u001b[0m_callable_fn\u001b[0m\u001b[0;34m(\u001b[0m\u001b[0;34m*\u001b[0m\u001b[0marray_vals\u001b[0m\u001b[0;34m)\u001b[0m\u001b[0;34m\u001b[0m\u001b[0;34m\u001b[0m\u001b[0m\n\u001b[0m\u001b[1;32m   2938\u001b[0m         \u001b[0;32mreturn\u001b[0m \u001b[0mfetched\u001b[0m\u001b[0;34m[\u001b[0m\u001b[0;34m:\u001b[0m\u001b[0mlen\u001b[0m\u001b[0;34m(\u001b[0m\u001b[0mself\u001b[0m\u001b[0;34m.\u001b[0m\u001b[0moutputs\u001b[0m\u001b[0;34m)\u001b[0m\u001b[0;34m]\u001b[0m\u001b[0;34m\u001b[0m\u001b[0;34m\u001b[0m\u001b[0m\n\u001b[1;32m   2939\u001b[0m \u001b[0;34m\u001b[0m\u001b[0m\n",
      "\u001b[0;32m~/anaconda3/envs/graph/lib/python3.7/site-packages/tensorflow/python/client/session.py\u001b[0m in \u001b[0;36m__call__\u001b[0;34m(self, *args, **kwargs)\u001b[0m\n\u001b[1;32m   1456\u001b[0m         ret = tf_session.TF_SessionRunCallable(self._session._session,\n\u001b[1;32m   1457\u001b[0m                                                \u001b[0mself\u001b[0m\u001b[0;34m.\u001b[0m\u001b[0m_handle\u001b[0m\u001b[0;34m,\u001b[0m \u001b[0margs\u001b[0m\u001b[0;34m,\u001b[0m\u001b[0;34m\u001b[0m\u001b[0;34m\u001b[0m\u001b[0m\n\u001b[0;32m-> 1458\u001b[0;31m                                                run_metadata_ptr)\n\u001b[0m\u001b[1;32m   1459\u001b[0m         \u001b[0;32mif\u001b[0m \u001b[0mrun_metadata\u001b[0m\u001b[0;34m:\u001b[0m\u001b[0;34m\u001b[0m\u001b[0;34m\u001b[0m\u001b[0m\n\u001b[1;32m   1460\u001b[0m           \u001b[0mproto_data\u001b[0m \u001b[0;34m=\u001b[0m \u001b[0mtf_session\u001b[0m\u001b[0;34m.\u001b[0m\u001b[0mTF_GetBuffer\u001b[0m\u001b[0;34m(\u001b[0m\u001b[0mrun_metadata_ptr\u001b[0m\u001b[0;34m)\u001b[0m\u001b[0;34m\u001b[0m\u001b[0;34m\u001b[0m\u001b[0m\n",
      "\u001b[0;31mKeyboardInterrupt\u001b[0m: "
     ]
    }
   ],
   "source": [
    "sequence_autoencoder.fit(x_train, x_train, epochs=1000, validation_data=(x_test, x_test))"
   ]
  },
  {
   "cell_type": "code",
   "execution_count": 46,
   "metadata": {},
   "outputs": [],
   "source": [
    "model.add(LSTM(64, activation='relu', input_shape=(None, 3), return_sequences=True))\n",
    "model.add(LSTM(3, activation='relu', return_sequences=True))"
   ]
  },
  {
   "cell_type": "code",
   "execution_count": 47,
   "metadata": {},
   "outputs": [
    {
     "name": "stdout",
     "output_type": "stream",
     "text": [
      "Model: \"sequential_5\"\n",
      "_________________________________________________________________\n",
      "Layer (type)                 Output Shape              Param #   \n",
      "=================================================================\n",
      "lstm_9 (LSTM)                (None, None, 64)          17408     \n",
      "_________________________________________________________________\n",
      "lstm_10 (LSTM)               (None, None, 3)           816       \n",
      "=================================================================\n",
      "Total params: 18,224\n",
      "Trainable params: 18,224\n",
      "Non-trainable params: 0\n",
      "_________________________________________________________________\n"
     ]
    }
   ],
   "source": [
    "model.summary()"
   ]
  },
  {
   "cell_type": "code",
   "execution_count": null,
   "metadata": {},
   "outputs": [],
   "source": []
  },
  {
   "cell_type": "code",
   "execution_count": 27,
   "metadata": {},
   "outputs": [],
   "source": [
    "np.array(x_train).shape\n",
    "#x_train = np.array(x_train)\n",
    "total = []\n",
    "for (idx1, i) in enumerate(x_train):\n",
    "    \n",
    "    for (idx, j) in enumerate(i):\n",
    "        if idx == 0:\n",
    "            datasets = np.array([j])\n",
    "        else:\n",
    "            datasets = np.concatenate((datasets, [j]), axis=0)\n",
    "    total.append(datasets)\n",
    "total = np.array(total)"
   ]
  },
  {
   "cell_type": "code",
   "execution_count": 48,
   "metadata": {},
   "outputs": [],
   "source": [
    "model.compile(loss='mean_squared_error', optimizer='adam')"
   ]
  },
  {
   "cell_type": "code",
   "execution_count": null,
   "metadata": {
    "scrolled": true
   },
   "outputs": [
    {
     "name": "stdout",
     "output_type": "stream",
     "text": [
      "Train on 540 samples, validate on 135 samples\n",
      "Epoch 1/100\n",
      "327/540 [=================>............] - ETA: 4s - loss: 636.8723"
     ]
    }
   ],
   "source": [
    "model.fit(x_train,x_train, batch_size=1, epochs=100, validation_data=(x_test, x_test))"
   ]
  },
  {
   "cell_type": "code",
   "execution_count": null,
   "metadata": {},
   "outputs": [],
   "source": []
  }
 ],
 "metadata": {
  "kernelspec": {
   "display_name": "Python 3",
   "language": "python",
   "name": "python3"
  },
  "language_info": {
   "codemirror_mode": {
    "name": "ipython",
    "version": 3
   },
   "file_extension": ".py",
   "mimetype": "text/x-python",
   "name": "python",
   "nbconvert_exporter": "python",
   "pygments_lexer": "ipython3",
   "version": "3.7.4"
  }
 },
 "nbformat": 4,
 "nbformat_minor": 2
}
