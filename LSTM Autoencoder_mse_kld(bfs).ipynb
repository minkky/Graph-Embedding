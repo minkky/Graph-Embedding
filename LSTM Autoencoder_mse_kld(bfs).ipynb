{
 "cells": [
  {
   "cell_type": "code",
   "execution_count": 1,
   "metadata": {},
   "outputs": [
    {
     "name": "stderr",
     "output_type": "stream",
     "text": [
      "Using TensorFlow backend.\n"
     ]
    }
   ],
   "source": [
    "import numpy as np\n",
    "import glob, os\n",
    "from keras import layers as ly\n",
    "from keras.models import Sequential, load_model, Model\n",
    "from keras.layers import LSTM, Dense, RepeatVector, TimeDistributed\n",
    "from keras.preprocessing import sequence\n",
    "from sklearn.model_selection import train_test_split\n",
    "from keras.optimizers import Adam\n",
    "from keras.layers import Input, Lambda\n",
    "from keras import losses\n",
    "from keras.models import model_from_json\n",
    "import keras.backend.tensorflow_backend as K\n",
    "from keras.callbacks import ModelCheckpoint, EarlyStopping"
   ]
  },
  {
   "cell_type": "code",
   "execution_count": 2,
   "metadata": {},
   "outputs": [],
   "source": [
    "#dir = './sequence/*'\n",
    "dir = './latest_sequence/bfs/*'"
   ]
  },
  {
   "cell_type": "code",
   "execution_count": 3,
   "metadata": {},
   "outputs": [],
   "source": [
    "# file read\n",
    "all_data = []\n",
    "sequence_length = []\n",
    "name = []\n",
    "for file in sorted(glob.glob(dir)):\n",
    "    name.append(file.split('/')[-1].replace('.txt', ''))\n",
    "    datasets = []\n",
    "    for f in open(file, 'r'):\n",
    "        f = f.replace(']', '').replace('[', '').replace('\\n','')\n",
    "        (u, v, w) = f.split(',')\n",
    "        datasets.append([int(u), int(v), float(w)])\n",
    "    sequence_length.append(len(datasets))\n",
    "    all_data.append(datasets)\n",
    "#all_data = np.array(all_data)\n",
    "all_data = np.array([np.array(arr) for arr in all_data])"
   ]
  },
  {
   "cell_type": "code",
   "execution_count": 4,
   "metadata": {},
   "outputs": [],
   "source": [
    "x_train, x_test, train_name, test_name = train_test_split(all_data, name, test_size=0.3)\n",
    "x_test, x_val, test_name, val_name = train_test_split(x_test, test_name, test_size=0.33)"
   ]
  },
  {
   "cell_type": "code",
   "execution_count": 5,
   "metadata": {},
   "outputs": [],
   "source": [
    "train_name\n",
    "tr_names= []\n",
    "for name in train_name:\n",
    "    tr_names.append(name.split('-')[0].replace('graph', ''))"
   ]
  },
  {
   "cell_type": "code",
   "execution_count": 6,
   "metadata": {},
   "outputs": [],
   "source": [
    "max_sequence_length = max(sequence_length)\n",
    "n_features = 3\n",
    "batch_size = 32\n",
    "epochs = 500\n",
    "steps_per_epoch = len(x_train)"
   ]
  },
  {
   "cell_type": "code",
   "execution_count": 7,
   "metadata": {},
   "outputs": [],
   "source": [
    "def custom_loss(y_true, y_pred):\n",
    "    loss1 = losses.mean_squared_error(y_true, y_pred)\n",
    "    loss2 = losses.kld(y_true, y_pred)\n",
    "    return loss1 * 0.7 + loss2 * 0.3"
   ]
  },
  {
   "cell_type": "code",
   "execution_count": 8,
   "metadata": {
    "scrolled": true
   },
   "outputs": [
    {
     "name": "stderr",
     "output_type": "stream",
     "text": [
      "WARNING: Logging before flag parsing goes to stderr.\n",
      "W1004 17:02:47.855664 140183748400896 deprecation_wrapper.py:119] From /home/minji/.local/lib/python3.7/site-packages/keras/backend/tensorflow_backend.py:66: The name tf.get_default_graph is deprecated. Please use tf.compat.v1.get_default_graph instead.\n",
      "\n",
      "W1004 17:02:47.864664 140183748400896 deprecation_wrapper.py:119] From /home/minji/.local/lib/python3.7/site-packages/keras/backend/tensorflow_backend.py:541: The name tf.placeholder is deprecated. Please use tf.compat.v1.placeholder instead.\n",
      "\n",
      "W1004 17:02:47.867667 140183748400896 deprecation_wrapper.py:119] From /home/minji/.local/lib/python3.7/site-packages/keras/backend/tensorflow_backend.py:4432: The name tf.random_uniform is deprecated. Please use tf.random.uniform instead.\n",
      "\n",
      "W1004 17:02:48.361598 140183748400896 deprecation_wrapper.py:119] From /home/minji/.local/lib/python3.7/site-packages/keras/optimizers.py:793: The name tf.train.Optimizer is deprecated. Please use tf.compat.v1.train.Optimizer instead.\n",
      "\n"
     ]
    }
   ],
   "source": [
    "def repeat_vector(args):\n",
    "    layer_to_repeat = args[0]\n",
    "    sequence_layer = args[1]\n",
    "    return RepeatVector(K.shape(sequence_layer)[1])(layer_to_repeat)\n",
    "    \n",
    "\n",
    "inputs = Input(shape=(None, 3))\n",
    "encoded = LSTM(128, return_sequences=True)(inputs)  #activation 안적으면 tanh\n",
    "encoded = LSTM(64)(encoded)\n",
    "\n",
    "decoded = Lambda(repeat_vector, output_shape=(None, 64)) ([encoded, inputs]) # inputs의 shape[1] 만큼 encoded 를 반복 생성\n",
    "\n",
    "decoded = LSTM(64, return_sequences=True)(decoded)\n",
    "decoded = LSTM(128, return_sequences=True)(decoded)\n",
    "decoded = TimeDistributed(Dense(3))(decoded)\n",
    "encoder = Model(inputs, encoded)\n",
    "\n",
    "lstm_autoencoder = Model(inputs, decoded)\n",
    "lstm_autoencoder.compile(loss=losses.mean_squared_error, optimizer='adam')\n",
    "#lstm_autoencoder_500 = lstm_autoencoder"
   ]
  },
  {
   "cell_type": "code",
   "execution_count": 9,
   "metadata": {},
   "outputs": [],
   "source": [
    "def train_generator(x_train):\n",
    "    idx = 0\n",
    "    while True:\n",
    "        yield np.array([x_train[idx]]), np.array([x_train[idx]])\n",
    "        idx +=1\n",
    "        if idx >= len(x_train):\n",
    "            idx = 0"
   ]
  },
  {
   "cell_type": "code",
   "execution_count": 10,
   "metadata": {},
   "outputs": [],
   "source": [
    "model_path = 'models/weights' + '{epoch:02d}-{loss:.4f}.h5'\n",
    "early_stopping_callback = EarlyStopping(monitor='loss', patience=50)\n",
    "checkpoint_callback = ModelCheckpoint(model_path, monitor='loss', verbose = 1, save_best_only = True, save_weights_only = True, mode='min')#, period=5)"
   ]
  },
  {
   "cell_type": "code",
   "execution_count": null,
   "metadata": {
    "scrolled": true
   },
   "outputs": [
    {
     "name": "stderr",
     "output_type": "stream",
     "text": [
      "W1004 17:02:53.719572 140183748400896 deprecation.py:323] From /home/minji/anaconda3/envs/graph/lib/python3.7/site-packages/tensorflow/python/ops/math_grad.py:1250: add_dispatch_support.<locals>.wrapper (from tensorflow.python.ops.array_ops) is deprecated and will be removed in a future version.\n",
      "Instructions for updating:\n",
      "Use tf.where in 2.0, which has the same broadcast rule as np.where\n",
      "W1004 17:02:55.021816 140183748400896 deprecation_wrapper.py:119] From /home/minji/.local/lib/python3.7/site-packages/keras/backend/tensorflow_backend.py:1033: The name tf.assign_add is deprecated. Please use tf.compat.v1.assign_add instead.\n",
      "\n",
      "W1004 17:02:55.124544 140183748400896 deprecation_wrapper.py:119] From /home/minji/.local/lib/python3.7/site-packages/keras/backend/tensorflow_backend.py:1020: The name tf.assign is deprecated. Please use tf.compat.v1.assign instead.\n",
      "\n"
     ]
    },
    {
     "name": "stdout",
     "output_type": "stream",
     "text": [
      "Epoch 1/350\n",
      "2360/2360 [==============================] - 21s 9ms/step - loss: 38.3778\n",
      "\n",
      "Epoch 00001: loss improved from inf to 38.37784, saving model to models/weights01-38.3778.h5\n",
      "Epoch 2/350\n",
      "2360/2360 [==============================] - 20s 8ms/step - loss: 37.4693\n",
      "\n",
      "Epoch 00002: loss improved from 38.37784 to 37.46928, saving model to models/weights02-37.4693.h5\n",
      "Epoch 3/350\n",
      "2360/2360 [==============================] - 20s 8ms/step - loss: 20.1401\n",
      "\n",
      "Epoch 00003: loss improved from 37.46928 to 20.14012, saving model to models/weights03-20.1401.h5\n",
      "Epoch 4/350\n",
      "2360/2360 [==============================] - 20s 9ms/step - loss: 13.4845\n",
      "\n",
      "Epoch 00004: loss improved from 20.14012 to 13.48451, saving model to models/weights04-13.4845.h5\n",
      "Epoch 5/350\n",
      "2360/2360 [==============================] - 20s 8ms/step - loss: 11.7295\n",
      "\n",
      "Epoch 00005: loss improved from 13.48451 to 11.72947, saving model to models/weights05-11.7295.h5\n",
      "Epoch 6/350\n",
      "2360/2360 [==============================] - 20s 9ms/step - loss: 11.0322\n",
      "\n",
      "Epoch 00006: loss improved from 11.72947 to 11.03216, saving model to models/weights06-11.0322.h5\n",
      "Epoch 7/350\n",
      "2360/2360 [==============================] - 20s 9ms/step - loss: 10.6759\n",
      "\n",
      "Epoch 00007: loss improved from 11.03216 to 10.67590, saving model to models/weights07-10.6759.h5\n",
      "Epoch 8/350\n",
      "2360/2360 [==============================] - 20s 8ms/step - loss: 10.3362\n",
      "\n",
      "Epoch 00008: loss improved from 10.67590 to 10.33617, saving model to models/weights08-10.3362.h5\n",
      "Epoch 9/350\n",
      "2360/2360 [==============================] - 28s 12ms/step - loss: 9.2114\n",
      "\n",
      "Epoch 00009: loss improved from 10.33617 to 9.21136, saving model to models/weights09-9.2114.h5\n",
      "Epoch 10/350\n",
      "2360/2360 [==============================] - 29s 12ms/step - loss: 8.8903\n",
      "\n",
      "Epoch 00010: loss improved from 9.21136 to 8.89031, saving model to models/weights10-8.8903.h5\n",
      "Epoch 11/350\n",
      "2360/2360 [==============================] - 23s 10ms/step - loss: 8.5510\n",
      "\n",
      "Epoch 00011: loss improved from 8.89031 to 8.55100, saving model to models/weights11-8.5510.h5\n",
      "Epoch 12/350\n",
      "2360/2360 [==============================] - 23s 10ms/step - loss: 8.5668\n",
      "\n",
      "Epoch 00012: loss did not improve from 8.55100\n",
      "Epoch 13/350\n",
      "2360/2360 [==============================] - 28s 12ms/step - loss: 7.6825\n",
      "\n",
      "Epoch 00013: loss improved from 8.55100 to 7.68252, saving model to models/weights13-7.6825.h5\n",
      "Epoch 14/350\n",
      "2360/2360 [==============================] - 28s 12ms/step - loss: 6.8573\n",
      "\n",
      "Epoch 00014: loss improved from 7.68252 to 6.85732, saving model to models/weights14-6.8573.h5\n",
      "Epoch 15/350\n",
      "2360/2360 [==============================] - 28s 12ms/step - loss: 6.3789\n",
      "\n",
      "Epoch 00015: loss improved from 6.85732 to 6.37895, saving model to models/weights15-6.3789.h5\n",
      "Epoch 16/350\n",
      "2360/2360 [==============================] - 29s 12ms/step - loss: 5.8980\n",
      "\n",
      "Epoch 00016: loss improved from 6.37895 to 5.89801, saving model to models/weights16-5.8980.h5\n",
      "Epoch 17/350\n",
      "2360/2360 [==============================] - 28s 12ms/step - loss: 5.5569\n",
      "\n",
      "Epoch 00017: loss improved from 5.89801 to 5.55691, saving model to models/weights17-5.5569.h5\n",
      "Epoch 18/350\n",
      "2360/2360 [==============================] - 28s 12ms/step - loss: 4.9311\n",
      "\n",
      "Epoch 00018: loss improved from 5.55691 to 4.93111, saving model to models/weights18-4.9311.h5\n",
      "Epoch 19/350\n",
      "2360/2360 [==============================] - 29s 12ms/step - loss: 4.8410\n",
      "\n",
      "Epoch 00019: loss improved from 4.93111 to 4.84105, saving model to models/weights19-4.8410.h5\n",
      "Epoch 20/350\n",
      "2360/2360 [==============================] - 29s 12ms/step - loss: 4.3819\n",
      "\n",
      "Epoch 00020: loss improved from 4.84105 to 4.38191, saving model to models/weights20-4.3819.h5\n",
      "Epoch 21/350\n",
      "2360/2360 [==============================] - 28s 12ms/step - loss: 4.3944\n",
      "\n",
      "Epoch 00021: loss did not improve from 4.38191\n",
      "Epoch 22/350\n",
      "2360/2360 [==============================] - 29s 12ms/step - loss: 3.7658\n",
      "\n",
      "Epoch 00022: loss improved from 4.38191 to 3.76582, saving model to models/weights22-3.7658.h5\n",
      "Epoch 23/350\n",
      "2360/2360 [==============================] - 29s 12ms/step - loss: 3.7113\n",
      "\n",
      "Epoch 00023: loss improved from 3.76582 to 3.71132, saving model to models/weights23-3.7113.h5\n",
      "Epoch 24/350\n",
      "2360/2360 [==============================] - 29s 12ms/step - loss: 3.7291\n",
      "\n",
      "Epoch 00024: loss did not improve from 3.71132\n",
      "Epoch 25/350\n",
      "2360/2360 [==============================] - 28s 12ms/step - loss: 3.8383\n",
      "\n",
      "Epoch 00025: loss did not improve from 3.71132\n",
      "Epoch 26/350\n",
      "2360/2360 [==============================] - 28s 12ms/step - loss: 3.6492\n",
      "\n",
      "Epoch 00026: loss improved from 3.71132 to 3.64918, saving model to models/weights26-3.6492.h5\n",
      "Epoch 27/350\n",
      "2360/2360 [==============================] - 28s 12ms/step - loss: 3.1219\n",
      "\n",
      "Epoch 00027: loss improved from 3.64918 to 3.12195, saving model to models/weights27-3.1219.h5\n",
      "Epoch 28/350\n",
      "2360/2360 [==============================] - 29s 12ms/step - loss: 3.3083\n",
      "\n",
      "Epoch 00028: loss did not improve from 3.12195\n",
      "Epoch 29/350\n",
      "2360/2360 [==============================] - 28s 12ms/step - loss: 3.5455\n",
      "\n",
      "Epoch 00029: loss did not improve from 3.12195\n",
      "Epoch 30/350\n",
      "2360/2360 [==============================] - 29s 12ms/step - loss: 2.9634\n",
      "\n",
      "Epoch 00030: loss improved from 3.12195 to 2.96345, saving model to models/weights30-2.9634.h5\n",
      "Epoch 31/350\n",
      "2360/2360 [==============================] - 28s 12ms/step - loss: 2.9239\n",
      "\n",
      "Epoch 00031: loss improved from 2.96345 to 2.92389, saving model to models/weights31-2.9239.h5\n",
      "Epoch 32/350\n",
      "2360/2360 [==============================] - 30s 13ms/step - loss: 3.0197\n",
      "\n",
      "Epoch 00032: loss did not improve from 2.92389\n",
      "Epoch 33/350\n",
      "1206/2360 [==============>...............] - ETA: 14s - loss: 2.8106"
     ]
    }
   ],
   "source": [
    "lstm_autoencoder.fit_generator(train_generator(x_train), epochs=350, steps_per_epoch=steps_per_epoch, verbose=1, callbacks=[early_stopping_callback, checkpoint_callback])"
   ]
  },
  {
   "cell_type": "code",
   "execution_count": null,
   "metadata": {},
   "outputs": [],
   "source": [
    "model_json = lstm_autoencoder.to_json()\n",
    "filename = input('filename: ')\n",
    "with open('model/' + filename + '.json', 'w') as file:\n",
    "    file.write(model_json)\n",
    "lstm_autoencoder.save_weights('model/weights_' +  filename + '.h5')"
   ]
  },
  {
   "cell_type": "code",
   "execution_count": null,
   "metadata": {},
   "outputs": [],
   "source": [
    "loaded_model = model_from_json(open('model/' +filename + '.json').read())\n",
    "loaded_model.load_weights('model/weights_' + filename + '.h5')"
   ]
  },
  {
   "cell_type": "code",
   "execution_count": null,
   "metadata": {},
   "outputs": [],
   "source": [
    "mean= 0\n",
    "for xt in x_test:\n",
    "    xt = xt.reshape(1, xt.shape[0], xt.shape[1])\n",
    "    out = loaded_model.predict(xt)\n",
    "    mean += ((xt-out)**2).mean(axis=None)\n",
    "print(mean/len(x_test))"
   ]
  },
  {
   "cell_type": "code",
   "execution_count": null,
   "metadata": {},
   "outputs": [],
   "source": [
    "encoder = Model(loaded_model.input, loaded_model.layers[3].output)"
   ]
  },
  {
   "cell_type": "code",
   "execution_count": null,
   "metadata": {},
   "outputs": [],
   "source": [
    "test = x_test[0].reshape(1, x_test[0].shape[0], x_test[0].shape[1])\n",
    "latent_vector = []\n",
    "for x in x_test:\n",
    "    x = x.reshape(1, x.shape[0], x.shape[1])\n",
    "    latent_vector.append(encoder.predict(x)[0])"
   ]
  }
 ],
 "metadata": {
  "kernelspec": {
   "display_name": "Python 3",
   "language": "python",
   "name": "python3"
  },
  "language_info": {
   "codemirror_mode": {
    "name": "ipython",
    "version": 3
   },
   "file_extension": ".py",
   "mimetype": "text/x-python",
   "name": "python",
   "nbconvert_exporter": "python",
   "pygments_lexer": "ipython3",
   "version": "3.7.4"
  }
 },
 "nbformat": 4,
 "nbformat_minor": 2
}
