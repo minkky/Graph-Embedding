{
 "cells": [
  {
   "cell_type": "code",
   "execution_count": 1,
   "metadata": {},
   "outputs": [
    {
     "name": "stderr",
     "output_type": "stream",
     "text": [
      "Using TensorFlow backend.\n"
     ]
    }
   ],
   "source": [
    "import numpy as np\n",
    "import glob, os\n",
    "from keras import layers as ly\n",
    "from keras.models import Sequential, load_model, Model\n",
    "from keras.layers import LSTM, Dense, RepeatVector, TimeDistributed\n",
    "from keras.preprocessing import sequence\n",
    "from sklearn.model_selection import train_test_split\n",
    "from keras.optimizers import Adam\n",
    "from keras.layers import Input, Lambda\n",
    "from keras import losses\n",
    "from keras.models import model_from_json\n",
    "import keras.backend.tensorflow_backend as K\n",
    "from keras.callbacks import ModelCheckpoint, EarlyStopping\n",
    "import string"
   ]
  },
  {
   "cell_type": "code",
   "execution_count": 2,
   "metadata": {},
   "outputs": [],
   "source": [
    "#dir = './sequence/*'\n",
    "dir = './latest_sequence/bfs-character/*'"
   ]
  },
  {
   "cell_type": "code",
   "execution_count": 3,
   "metadata": {},
   "outputs": [],
   "source": [
    "# file read\n",
    "all_names = []\n",
    "all_data = []\n",
    "sequence_length = []\n",
    "alpha = list(string.ascii_uppercase)\n",
    "data_length = len(glob.glob(dir))\n",
    "file_predix = './latest_sequence/bfs-character/graph'\n",
    "for index in range(data_length):\n",
    "    filename = file_predix + str(index) + \"-*\"\n",
    "    files = glob.glob(filename)\n",
    "    for file in files:\n",
    "        datasets = []\n",
    "        all_names.append(file.split('/')[-1].replace('.txt', ''))\n",
    "        for rf in open(file, 'r'):\n",
    "            (u, v, w) = rf[1:-2].split(', ')\n",
    "            datasets.append([alpha.index(u[1])+1, alpha.index(v[1]) +1, float(w)])\n",
    "        sequence_length.append(len(datasets))\n",
    "        all_data.append(datasets)\n",
    "all_data = np.array([np.array(arr) for arr in all_data])"
   ]
  },
  {
   "cell_type": "code",
   "execution_count": 4,
   "metadata": {},
   "outputs": [],
   "source": [
    "x_train, x_test, train_name, test_name = train_test_split(all_data, all_names, test_size=0.3)\n",
    "x_test, x_val, test_name, val_name = train_test_split(x_test, test_name, test_size=0.33)"
   ]
  },
  {
   "cell_type": "code",
   "execution_count": 5,
   "metadata": {},
   "outputs": [],
   "source": [
    "train_name\n",
    "tr_names= []\n",
    "for name in train_name:\n",
    "    tr_names.append(name.split('-')[0].replace('graph', ''))"
   ]
  },
  {
   "cell_type": "code",
   "execution_count": 6,
   "metadata": {},
   "outputs": [],
   "source": [
    "max_sequence_length = max(sequence_length)\n",
    "n_features = 3\n",
    "batch_size = 32\n",
    "epochs = 200\n",
    "steps_per_epoch = len(x_train)"
   ]
  },
  {
   "cell_type": "code",
   "execution_count": 7,
   "metadata": {},
   "outputs": [],
   "source": [
    "def custom_loss(y_true, y_pred):\n",
    "    loss1 = losses.mean_squared_error(y_true, y_pred)\n",
    "    loss2 = losses.kld(y_true, y_pred) # categorical_crossentropy\n",
    "    return loss1 * 0.7 + loss2 * 0.3"
   ]
  },
  {
   "cell_type": "code",
   "execution_count": 12,
   "metadata": {
    "scrolled": true
   },
   "outputs": [],
   "source": [
    "def repeat_vector(args):\n",
    "    layer_to_repeat = args[0]\n",
    "    sequence_layer = args[1]\n",
    "    return RepeatVector(K.shape(sequence_layer)[1])(layer_to_repeat)\n",
    "    \n",
    "\n",
    "inputs = Input(shape=(None, 3))\n",
    "encoded = LSTM(128, return_sequences=True)(inputs)  #activation 안적으면 tanh\n",
    "encoded = LSTM(64)(encoded)\n",
    "\n",
    "decoded = Lambda(repeat_vector, output_shape=(None, 64)) ([encoded, inputs]) # inputs의 shape[1] 만큼 encoded 를 반복 생성\n",
    "\n",
    "decoded = LSTM(64, return_sequences=True)(decoded)\n",
    "decoded = LSTM(128, return_sequences=True)(decoded)\n",
    "decoded = TimeDistributed(Dense(3))(decoded)\n",
    "encoder = Model(inputs, encoded)\n",
    "\n",
    "lstm_autoencoder = Model(inputs, decoded)\n",
    "lstm_autoencoder.compile(loss=custom_loss, optimizer=Adam())#decay=0.9\n",
    "#lstm_autoencoder_500 = lstm_autoencoder"
   ]
  },
  {
   "cell_type": "code",
   "execution_count": 13,
   "metadata": {},
   "outputs": [],
   "source": [
    "def val_generator(x_val):\n",
    "    idx = 0\n",
    "    while True:\n",
    "        yield np.array([x_val[idx]]), np.array([x_val[idx]])\n",
    "        idx += 1\n",
    "        if idx >= len(x_val):\n",
    "            idx = 0\n",
    "\n",
    "def train_generator(x_train):\n",
    "    idx = 0\n",
    "    while True:\n",
    "        yield np.array([x_train[idx]]), np.array([x_train[idx]])\n",
    "        idx += 1\n",
    "        if idx >= len(x_train):\n",
    "            idx = 0"
   ]
  },
  {
   "cell_type": "code",
   "execution_count": null,
   "metadata": {
    "scrolled": true
   },
   "outputs": [
    {
     "name": "stdout",
     "output_type": "stream",
     "text": [
      "Epoch 1/300\n",
      "6468/6468 [==============================] - 65s 10ms/step - loss: 24.6951 - val_loss: 15.2743\n",
      "Epoch 2/300\n",
      "6468/6468 [==============================] - 63s 10ms/step - loss: 13.5587 - val_loss: 12.2123\n",
      "Epoch 3/300\n",
      "6468/6468 [==============================] - 64s 10ms/step - loss: 11.1077 - val_loss: 11.6055\n",
      "Epoch 4/300\n",
      "6468/6468 [==============================] - 63s 10ms/step - loss: 9.2143 - val_loss: 8.6535\n",
      "Epoch 5/300\n",
      "6468/6468 [==============================] - 63s 10ms/step - loss: 7.8064 - val_loss: 7.8116\n",
      "Epoch 6/300\n",
      "6468/6468 [==============================] - 63s 10ms/step - loss: 6.9883 - val_loss: 7.4312\n",
      "Epoch 7/300\n",
      "6468/6468 [==============================] - 63s 10ms/step - loss: 6.5110 - val_loss: 6.7250\n",
      "Epoch 8/300\n",
      "6468/6468 [==============================] - 64s 10ms/step - loss: 6.1313 - val_loss: 6.8325\n",
      "Epoch 9/300\n",
      "6468/6468 [==============================] - 63s 10ms/step - loss: 5.5233 - val_loss: 6.5667\n",
      "Epoch 10/300\n",
      "6468/6468 [==============================] - 63s 10ms/step - loss: 5.0116 - val_loss: 5.9378\n",
      "Epoch 11/300\n",
      "6468/6468 [==============================] - 64s 10ms/step - loss: 4.6987 - val_loss: 5.6785\n",
      "Epoch 12/300\n",
      "6468/6468 [==============================] - 64s 10ms/step - loss: 4.3489 - val_loss: 4.2821\n",
      "Epoch 13/300\n",
      "6468/6468 [==============================] - 64s 10ms/step - loss: 4.0283 - val_loss: 3.9048\n",
      "Epoch 14/300\n",
      "6468/6468 [==============================] - 64s 10ms/step - loss: 3.8043 - val_loss: 3.7982\n",
      "Epoch 15/300\n",
      "6468/6468 [==============================] - 64s 10ms/step - loss: 3.4677 - val_loss: 3.6292\n",
      "Epoch 16/300\n",
      "6468/6468 [==============================] - 64s 10ms/step - loss: 3.2980 - val_loss: 3.4893\n",
      "Epoch 17/300\n",
      "6468/6468 [==============================] - 64s 10ms/step - loss: 3.1383 - val_loss: 3.3702\n",
      "Epoch 18/300\n",
      "6468/6468 [==============================] - 64s 10ms/step - loss: 2.9564 - val_loss: 3.2706\n",
      "Epoch 19/300\n",
      "6468/6468 [==============================] - 64s 10ms/step - loss: 2.8412 - val_loss: 3.1782\n",
      "Epoch 20/300\n",
      "6468/6468 [==============================] - 64s 10ms/step - loss: 2.7914 - val_loss: 3.0346\n",
      "Epoch 21/300\n",
      "6468/6468 [==============================] - 64s 10ms/step - loss: 2.6576 - val_loss: 2.8880\n",
      "Epoch 22/300\n",
      "6468/6468 [==============================] - 64s 10ms/step - loss: 2.5049 - val_loss: 2.6813\n",
      "Epoch 23/300\n",
      "6468/6468 [==============================] - 64s 10ms/step - loss: 2.3797 - val_loss: 2.7489\n",
      "Epoch 24/300\n",
      "6468/6468 [==============================] - 64s 10ms/step - loss: 2.3075 - val_loss: 2.4682\n",
      "Epoch 25/300\n",
      "6468/6468 [==============================] - 64s 10ms/step - loss: 2.1857 - val_loss: 2.4170\n",
      "Epoch 26/300\n",
      "6468/6468 [==============================] - 64s 10ms/step - loss: 2.1412 - val_loss: 2.4020\n",
      "Epoch 27/300\n",
      "6468/6468 [==============================] - 64s 10ms/step - loss: 1.9919 - val_loss: 2.4740\n",
      "Epoch 28/300\n",
      "6468/6468 [==============================] - 64s 10ms/step - loss: 2.0349 - val_loss: 2.1403\n",
      "Epoch 29/300\n",
      "6468/6468 [==============================] - 64s 10ms/step - loss: 1.8018 - val_loss: 2.1384\n",
      "Epoch 30/300\n",
      "6468/6468 [==============================] - 62s 10ms/step - loss: 1.7095 - val_loss: 2.1153\n",
      "Epoch 31/300\n",
      "6468/6468 [==============================] - 61s 9ms/step - loss: 1.6672 - val_loss: 2.1320\n",
      "Epoch 32/300\n",
      "6468/6468 [==============================] - 61s 9ms/step - loss: 1.5739 - val_loss: 2.0848\n",
      "Epoch 33/300\n",
      "6468/6468 [==============================] - 61s 9ms/step - loss: 1.6582 - val_loss: 1.8587\n",
      "Epoch 34/300\n",
      "6468/6468 [==============================] - 61s 9ms/step - loss: 1.4643 - val_loss: 1.8689\n",
      "Epoch 35/300\n",
      "6468/6468 [==============================] - 61s 9ms/step - loss: 1.6267 - val_loss: 1.8652\n",
      "Epoch 36/300\n",
      "6468/6468 [==============================] - 61s 9ms/step - loss: 1.4500 - val_loss: 1.8537\n",
      "Epoch 37/300\n",
      "6468/6468 [==============================] - 61s 9ms/step - loss: 1.3672 - val_loss: 1.9078\n",
      "Epoch 38/300\n",
      "6468/6468 [==============================] - 61s 9ms/step - loss: 1.2854 - val_loss: 1.9031\n",
      "Epoch 39/300\n",
      "6468/6468 [==============================] - 61s 9ms/step - loss: 1.2652 - val_loss: 1.8466\n",
      "Epoch 40/300\n",
      "6468/6468 [==============================] - 61s 9ms/step - loss: 1.2115 - val_loss: 2.0357\n",
      "Epoch 41/300\n",
      "6468/6468 [==============================] - 61s 9ms/step - loss: 1.1896 - val_loss: 1.6821\n",
      "Epoch 42/300\n",
      "6468/6468 [==============================] - 61s 9ms/step - loss: 1.1604 - val_loss: 1.5932\n",
      "Epoch 43/300\n",
      "6468/6468 [==============================] - 61s 9ms/step - loss: 1.1664 - val_loss: 1.6007\n",
      "Epoch 44/300\n",
      "6468/6468 [==============================] - 61s 9ms/step - loss: 1.0685 - val_loss: 1.6009\n",
      "Epoch 45/300\n",
      "6468/6468 [==============================] - 63s 10ms/step - loss: 1.0348 - val_loss: 1.5698\n",
      "Epoch 46/300\n",
      "6468/6468 [==============================] - 61s 9ms/step - loss: 1.0039 - val_loss: 1.5731\n",
      "Epoch 47/300\n",
      "6468/6468 [==============================] - 61s 9ms/step - loss: 1.0657 - val_loss: 1.5298\n",
      "Epoch 48/300\n",
      "6468/6468 [==============================] - 61s 9ms/step - loss: 0.9602 - val_loss: 1.4913\n",
      "Epoch 49/300\n",
      "6468/6468 [==============================] - 61s 9ms/step - loss: 0.9574 - val_loss: 1.4072\n",
      "Epoch 50/300\n",
      "6468/6468 [==============================] - 65s 10ms/step - loss: 1.0046 - val_loss: 1.3922\n",
      "Epoch 51/300\n",
      "6468/6468 [==============================] - 67s 10ms/step - loss: 0.9117 - val_loss: 1.3816\n",
      "Epoch 52/300\n",
      "6468/6468 [==============================] - 65s 10ms/step - loss: 0.9322 - val_loss: 1.3799\n",
      "Epoch 53/300\n",
      "6468/6468 [==============================] - 65s 10ms/step - loss: 0.8867 - val_loss: 1.6727\n",
      "Epoch 54/300\n",
      "6468/6468 [==============================] - 65s 10ms/step - loss: 0.8674 - val_loss: 1.5697\n",
      "Epoch 55/300\n",
      "6468/6468 [==============================] - 65s 10ms/step - loss: 0.8382 - val_loss: 1.3593\n",
      "Epoch 56/300\n",
      "6468/6468 [==============================] - 65s 10ms/step - loss: 0.8126 - val_loss: 1.3726\n",
      "Epoch 57/300\n",
      "6468/6468 [==============================] - 65s 10ms/step - loss: 0.8089 - val_loss: 1.3691\n",
      "Epoch 58/300\n",
      "6468/6468 [==============================] - 65s 10ms/step - loss: 0.7662 - val_loss: 1.3188\n",
      "Epoch 59/300\n",
      "6468/6468 [==============================] - 65s 10ms/step - loss: 0.7590 - val_loss: 1.4726\n",
      "Epoch 60/300\n",
      "6468/6468 [==============================] - 65s 10ms/step - loss: 0.7528 - val_loss: 1.4529\n",
      "Epoch 61/300\n",
      "6468/6468 [==============================] - 65s 10ms/step - loss: 0.7293 - val_loss: 1.3384\n",
      "Epoch 62/300\n",
      "6468/6468 [==============================] - 64s 10ms/step - loss: 0.7300 - val_loss: 1.3960\n",
      "Epoch 63/300\n",
      "6468/6468 [==============================] - 65s 10ms/step - loss: 0.7019 - val_loss: 1.2350\n",
      "Epoch 64/300\n",
      "6468/6468 [==============================] - 65s 10ms/step - loss: 0.7020 - val_loss: 1.2032\n",
      "Epoch 65/300\n",
      "6468/6468 [==============================] - 65s 10ms/step - loss: 0.6912 - val_loss: 1.2975\n",
      "Epoch 66/300\n",
      "6468/6468 [==============================] - 65s 10ms/step - loss: 0.7654 - val_loss: 1.2077\n",
      "Epoch 67/300\n",
      "6468/6468 [==============================] - 65s 10ms/step - loss: 0.6679 - val_loss: 1.2666\n",
      "Epoch 68/300\n",
      "6468/6468 [==============================] - 64s 10ms/step - loss: 0.7047 - val_loss: 1.2579\n",
      "Epoch 69/300\n",
      "1814/6468 [=======>......................] - ETA: 42s - loss: 0.6096"
     ]
    }
   ],
   "source": [
    "hist = lstm_autoencoder.fit_generator(train_generator(x_train), epochs=300, steps_per_epoch=steps_per_epoch, verbose=1, validation_steps=len(x_val), validation_data=val_generator(x_val))"
   ]
  },
  {
   "cell_type": "code",
   "execution_count": 17,
   "metadata": {},
   "outputs": [],
   "source": [
    "# MODEL SAVE\n",
    "model_json = lstm_autoencoder.to_json()\n",
    "filename = 'latest_mse_kld_lstmae1' #input('filename: ') \n",
    "with open('model_save/mse_kld_models/' + filename + '.json', 'w') as file:\n",
    "    file.write(model_json)\n",
    "lstm_autoencoder.save_weights('model_save/mse_kld_models/weights_' +  filename + '.h5')"
   ]
  },
  {
   "cell_type": "code",
   "execution_count": null,
   "metadata": {},
   "outputs": [],
   "source": [
    "import matplotlib.pyplot as plt\n",
    "\n",
    "fig, loss_ax = plt.subplots()\n",
    "\n",
    "loss_ax.plot(hist.history['loss'], 'y', label='train loss')\n",
    "loss_ax.set_xlabel('epoch')\n",
    "loss_ax.set_ylabel('loss')\n",
    "loss_ax.legend(loc='upper left')\n",
    "\n",
    "plt.show()"
   ]
  },
  {
   "cell_type": "code",
   "execution_count": 7,
   "metadata": {},
   "outputs": [
    {
     "name": "stderr",
     "output_type": "stream",
     "text": [
      "WARNING: Logging before flag parsing goes to stderr.\n",
      "W1010 15:50:46.376312 140028240148224 deprecation_wrapper.py:119] From /home/minji/.local/lib/python3.7/site-packages/keras/backend/tensorflow_backend.py:541: The name tf.placeholder is deprecated. Please use tf.compat.v1.placeholder instead.\n",
      "\n",
      "W1010 15:50:46.386179 140028240148224 deprecation_wrapper.py:119] From /home/minji/.local/lib/python3.7/site-packages/keras/backend/tensorflow_backend.py:66: The name tf.get_default_graph is deprecated. Please use tf.compat.v1.get_default_graph instead.\n",
      "\n",
      "W1010 15:50:46.388441 140028240148224 deprecation_wrapper.py:119] From /home/minji/.local/lib/python3.7/site-packages/keras/backend/tensorflow_backend.py:4432: The name tf.random_uniform is deprecated. Please use tf.random.uniform instead.\n",
      "\n",
      "W1010 15:50:46.865248 140028240148224 deprecation_wrapper.py:119] From /home/minji/.local/lib/python3.7/site-packages/keras/backend/tensorflow_backend.py:190: The name tf.get_default_session is deprecated. Please use tf.compat.v1.get_default_session instead.\n",
      "\n",
      "W1010 15:50:46.866482 140028240148224 deprecation_wrapper.py:119] From /home/minji/.local/lib/python3.7/site-packages/keras/backend/tensorflow_backend.py:197: The name tf.ConfigProto is deprecated. Please use tf.compat.v1.ConfigProto instead.\n",
      "\n"
     ]
    }
   ],
   "source": [
    "filename = \"latest_mse_kld_lstmae\"\n",
    "# MODEL LOAD\n",
    "loaded_model = model_from_json(open('model_save/mse_kld_models/' +filename + '.json').read())\n",
    "loaded_model.load_weights('model_save/mse_kld_models/weights_' + filename + '.h5')"
   ]
  },
  {
   "cell_type": "code",
   "execution_count": 12,
   "metadata": {},
   "outputs": [],
   "source": [
    "loaded_model = lstm_autoencoder"
   ]
  },
  {
   "cell_type": "code",
   "execution_count": 13,
   "metadata": {
    "scrolled": true
   },
   "outputs": [
    {
     "name": "stdout",
     "output_type": "stream",
     "text": [
      "1.1201211081425275\n"
     ]
    }
   ],
   "source": [
    "mean= 0\n",
    "for xt in x_test:\n",
    "    xt = xt.reshape(1, xt.shape[0], xt.shape[1])\n",
    "    out = loaded_model.predict(xt)\n",
    "    mean += ((xt-out)**2).mean(axis=None)\n",
    "print(mean/len(x_test))"
   ]
  },
  {
   "cell_type": "code",
   "execution_count": null,
   "metadata": {},
   "outputs": [],
   "source": [
    "encoder = Model(loaded_model.input, loaded_model.layers[3].output)"
   ]
  },
  {
   "cell_type": "code",
   "execution_count": null,
   "metadata": {},
   "outputs": [],
   "source": [
    "test = x_test[0].reshape(1, x_test[0].shape[0], x_test[0].shape[1])\n",
    "latent_vector = []\n",
    "for x in x_test:\n",
    "    x = x.reshape(1, x.shape[0], x.shape[1])\n",
    "    latent_vector.append(encoder.predict(x)[0])"
   ]
  },
  {
   "cell_type": "code",
   "execution_count": 23,
   "metadata": {},
   "outputs": [],
   "source": [
    "model_path = 'model_save/mse_kld_models/weights' + '{epoch:02d}-{loss:.4f}.h5'\n",
    "early_stopping_callback = EarlyStopping(monitor='loss', patience=200)\n",
    "checkpoint_callback = ModelCheckpoint(model_path, monitor='loss', verbose = 1, save_best_only = True, save_weights_only = True, mode='min')#, period=5)"
   ]
  }
 ],
 "metadata": {
  "kernelspec": {
   "display_name": "Python 3",
   "language": "python",
   "name": "python3"
  },
  "language_info": {
   "codemirror_mode": {
    "name": "ipython",
    "version": 3
   },
   "file_extension": ".py",
   "mimetype": "text/x-python",
   "name": "python",
   "nbconvert_exporter": "python",
   "pygments_lexer": "ipython3",
   "version": "3.7.4"
  }
 },
 "nbformat": 4,
 "nbformat_minor": 2
}
