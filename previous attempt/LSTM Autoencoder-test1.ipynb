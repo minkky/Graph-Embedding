{
 "cells": [
  {
   "cell_type": "code",
   "execution_count": 1,
   "metadata": {},
   "outputs": [
    {
     "name": "stderr",
     "output_type": "stream",
     "text": [
      "Using TensorFlow backend.\n"
     ]
    }
   ],
   "source": [
    "import numpy as np\n",
    "import glob, os\n",
    "from keras.models import Sequential\n",
    "from keras.layers import LSTM, Input\n",
    "from keras.layers import Dense\n",
    "from keras.layers import RepeatVector\n",
    "from keras.layers import TimeDistributed\n",
    "from keras.preprocessing import sequence\n",
    "from sklearn.model_selection import train_test_split\n",
    "import keras.backend as K"
   ]
  },
  {
   "cell_type": "code",
   "execution_count": 2,
   "metadata": {},
   "outputs": [],
   "source": [
    "dir = './sequence/*'"
   ]
  },
  {
   "cell_type": "code",
   "execution_count": 3,
   "metadata": {},
   "outputs": [],
   "source": [
    "# file read\n",
    "all_data = []\n",
    "sequence_length = []\n",
    "for file in sorted(glob.glob(dir)):\n",
    "    datasets = []\n",
    "    for f in open(file, 'r'):\n",
    "        f = f.replace(']', '').replace('[', '').replace('\\n','')\n",
    "        (u, v, w) = f.split(',')\n",
    "        datasets.append([int(u), int(v), float(w)])\n",
    "    sequence_length.append(len(datasets))\n",
    "    all_data.append(datasets)\n",
    "#all_data = np.array(all_data)"
   ]
  },
  {
   "cell_type": "code",
   "execution_count": 4,
   "metadata": {},
   "outputs": [],
   "source": [
    "max_sequence_length = max(sequence_length)\n",
    "n_features = 3\n",
    "batch_size = 540\n",
    "epochs = 1000"
   ]
  },
  {
   "cell_type": "code",
   "execution_count": 5,
   "metadata": {},
   "outputs": [],
   "source": [
    "# timesteps 맞춰주기 위해서 padding 추가\n",
    "all_data = sequence.pad_sequences(all_data, padding='post', maxlen = max_sequence_length)"
   ]
  },
  {
   "cell_type": "code",
   "execution_count": 44,
   "metadata": {},
   "outputs": [],
   "source": [
    "x_train, x_test = train_test_split(all_data, test_size = 0.2)\n",
    "x_test, x_val = train_test_split(x_test, test_size = 0.66)"
   ]
  },
  {
   "cell_type": "code",
   "execution_count": 30,
   "metadata": {},
   "outputs": [],
   "source": [
    "model = Sequential()"
   ]
  },
  {
   "cell_type": "code",
   "execution_count": 50,
   "metadata": {},
   "outputs": [],
   "source": [
    "model = Sequential()\n",
    "model.add(LSTM(64, activation='relu', input_shape=(None, 3), return_sequences=True))\n",
    "model.add(LSTM(32, activation='relu', return_sequences=True))\n",
    "model.add(LSTM(16, activation='relu', return_sequences=True))\n",
    "#model.add(LSTM(8, activation='relu', return_sequences=True))\n",
    "model.add(LSTM(3, activation='relu', return_sequences=True))"
   ]
  },
  {
   "cell_type": "code",
   "execution_count": 51,
   "metadata": {},
   "outputs": [
    {
     "name": "stdout",
     "output_type": "stream",
     "text": [
      "Model: \"sequential_10\"\n",
      "_________________________________________________________________\n",
      "Layer (type)                 Output Shape              Param #   \n",
      "=================================================================\n",
      "lstm_44 (LSTM)               (None, None, 64)          17408     \n",
      "_________________________________________________________________\n",
      "lstm_45 (LSTM)               (None, None, 32)          12416     \n",
      "_________________________________________________________________\n",
      "lstm_46 (LSTM)               (None, None, 16)          3136      \n",
      "_________________________________________________________________\n",
      "lstm_47 (LSTM)               (None, None, 3)           240       \n",
      "=================================================================\n",
      "Total params: 33,200\n",
      "Trainable params: 33,200\n",
      "Non-trainable params: 0\n",
      "_________________________________________________________________\n"
     ]
    }
   ],
   "source": [
    "model.summary()"
   ]
  },
  {
   "cell_type": "code",
   "execution_count": null,
   "metadata": {},
   "outputs": [],
   "source": []
  },
  {
   "cell_type": "code",
   "execution_count": 27,
   "metadata": {},
   "outputs": [],
   "source": [
    "np.array(x_train).shape\n",
    "#x_train = np.array(x_train)\n",
    "total = []\n",
    "for (idx1, i) in enumerate(x_train):\n",
    "    \n",
    "    for (idx, j) in enumerate(i):\n",
    "        if idx == 0:\n",
    "            datasets = np.array([j])\n",
    "        else:\n",
    "            datasets = np.concatenate((datasets, [j]), axis=0)\n",
    "    total.append(datasets)\n",
    "total = np.array(total)"
   ]
  },
  {
   "cell_type": "code",
   "execution_count": 52,
   "metadata": {},
   "outputs": [],
   "source": [
    "model.compile(loss='mean_squared_error', optimizer='adam')"
   ]
  },
  {
   "cell_type": "code",
   "execution_count": 53,
   "metadata": {
    "scrolled": true
   },
   "outputs": [
    {
     "name": "stdout",
     "output_type": "stream",
     "text": [
      "Train on 540 samples, validate on 90 samples\n",
      "Epoch 1/100\n",
      "540/540 [==============================] - 3s 6ms/step - loss: 13.0386 - val_loss: 10.9999\n",
      "Epoch 2/100\n",
      "540/540 [==============================] - 0s 762us/step - loss: 10.9817 - val_loss: 9.1797\n",
      "Epoch 3/100\n",
      "540/540 [==============================] - 0s 767us/step - loss: 9.3604 - val_loss: 7.8926\n",
      "Epoch 4/100\n",
      "540/540 [==============================] - 0s 776us/step - loss: 7.9506 - val_loss: 6.6720\n",
      "Epoch 5/100\n",
      "540/540 [==============================] - 0s 764us/step - loss: 6.7931 - val_loss: 5.8079\n",
      "Epoch 6/100\n",
      "540/540 [==============================] - 0s 789us/step - loss: 5.8256 - val_loss: 4.9932\n",
      "Epoch 7/100\n",
      "540/540 [==============================] - 0s 764us/step - loss: 4.9076 - val_loss: 4.3181\n",
      "Epoch 8/100\n",
      "540/540 [==============================] - 0s 777us/step - loss: 4.2565 - val_loss: 3.8468\n",
      "Epoch 9/100\n",
      "540/540 [==============================] - 0s 753us/step - loss: 3.7282 - val_loss: 3.3058\n",
      "Epoch 10/100\n",
      "540/540 [==============================] - 0s 821us/step - loss: 3.2557 - val_loss: 2.9261\n",
      "Epoch 11/100\n",
      "540/540 [==============================] - 0s 804us/step - loss: 2.8909 - val_loss: 2.6057\n",
      "Epoch 12/100\n",
      "540/540 [==============================] - 0s 772us/step - loss: 2.5566 - val_loss: 2.3367\n",
      "Epoch 13/100\n",
      "540/540 [==============================] - 0s 838us/step - loss: 2.4410 - val_loss: 2.3305\n",
      "Epoch 14/100\n",
      "540/540 [==============================] - 0s 791us/step - loss: 2.2366 - val_loss: 2.0043\n",
      "Epoch 15/100\n",
      "540/540 [==============================] - 0s 774us/step - loss: 1.9498 - val_loss: 1.7785\n",
      "Epoch 16/100\n",
      "540/540 [==============================] - 0s 795us/step - loss: 1.7150 - val_loss: 1.5408\n",
      "Epoch 17/100\n",
      "540/540 [==============================] - 0s 784us/step - loss: 1.5280 - val_loss: 1.3855\n",
      "Epoch 18/100\n",
      "540/540 [==============================] - 0s 813us/step - loss: 1.3975 - val_loss: 1.2784\n",
      "Epoch 19/100\n",
      "540/540 [==============================] - 0s 761us/step - loss: 1.2940 - val_loss: 1.1935\n",
      "Epoch 20/100\n",
      "540/540 [==============================] - 0s 782us/step - loss: 1.2056 - val_loss: 1.1017\n",
      "Epoch 21/100\n",
      "540/540 [==============================] - 0s 800us/step - loss: 1.1222 - val_loss: 1.0342\n",
      "Epoch 22/100\n",
      "540/540 [==============================] - 0s 784us/step - loss: 1.0456 - val_loss: 0.9687\n",
      "Epoch 23/100\n",
      "540/540 [==============================] - 0s 789us/step - loss: 0.9782 - val_loss: 0.8976\n",
      "Epoch 24/100\n",
      "540/540 [==============================] - 0s 755us/step - loss: 0.9100 - val_loss: 0.8376\n",
      "Epoch 25/100\n",
      "540/540 [==============================] - 0s 773us/step - loss: 0.8435 - val_loss: 0.7773\n",
      "Epoch 26/100\n",
      "540/540 [==============================] - 0s 747us/step - loss: 0.7818 - val_loss: 0.7147\n",
      "Epoch 27/100\n",
      "540/540 [==============================] - 0s 761us/step - loss: 0.7168 - val_loss: 0.6650\n",
      "Epoch 28/100\n",
      "540/540 [==============================] - 0s 774us/step - loss: 0.6549 - val_loss: 0.5953\n",
      "Epoch 29/100\n",
      "540/540 [==============================] - 0s 758us/step - loss: 0.5877 - val_loss: 0.5376\n",
      "Epoch 30/100\n",
      "540/540 [==============================] - 0s 779us/step - loss: 0.5248 - val_loss: 0.4839\n",
      "Epoch 31/100\n",
      "540/540 [==============================] - 0s 758us/step - loss: 0.4714 - val_loss: 0.4464\n",
      "Epoch 32/100\n",
      "540/540 [==============================] - 0s 781us/step - loss: 0.4325 - val_loss: 0.4025\n",
      "Epoch 33/100\n",
      "540/540 [==============================] - 0s 788us/step - loss: 0.3867 - val_loss: 0.3580\n",
      "Epoch 34/100\n",
      "540/540 [==============================] - 0s 751us/step - loss: 0.3512 - val_loss: 0.3233\n",
      "Epoch 35/100\n",
      "540/540 [==============================] - 0s 783us/step - loss: 0.3134 - val_loss: 0.2868\n",
      "Epoch 36/100\n",
      "540/540 [==============================] - 0s 788us/step - loss: 0.2786 - val_loss: 0.2571\n",
      "Epoch 37/100\n",
      "540/540 [==============================] - 0s 787us/step - loss: 0.2498 - val_loss: 0.2370\n",
      "Epoch 38/100\n",
      "540/540 [==============================] - 0s 757us/step - loss: 0.2259 - val_loss: 0.2093\n",
      "Epoch 39/100\n",
      "540/540 [==============================] - 0s 752us/step - loss: 0.2061 - val_loss: 0.1928\n",
      "Epoch 40/100\n",
      "540/540 [==============================] - 0s 779us/step - loss: 0.1913 - val_loss: 0.1779\n",
      "Epoch 41/100\n",
      "540/540 [==============================] - 0s 758us/step - loss: 0.1749 - val_loss: 0.1669\n",
      "Epoch 42/100\n",
      "540/540 [==============================] - 0s 804us/step - loss: 0.1672 - val_loss: 0.1545\n",
      "Epoch 43/100\n",
      "540/540 [==============================] - 0s 766us/step - loss: 0.1565 - val_loss: 0.1455\n",
      "Epoch 44/100\n",
      "540/540 [==============================] - 0s 762us/step - loss: 0.1470 - val_loss: 0.1375\n",
      "Epoch 45/100\n",
      "540/540 [==============================] - 0s 773us/step - loss: 0.1397 - val_loss: 0.1324\n",
      "Epoch 46/100\n",
      "540/540 [==============================] - 0s 760us/step - loss: 0.1328 - val_loss: 0.1263\n",
      "Epoch 47/100\n",
      "540/540 [==============================] - 0s 808us/step - loss: 0.1271 - val_loss: 0.1219\n",
      "Epoch 48/100\n",
      "540/540 [==============================] - 0s 749us/step - loss: 0.1246 - val_loss: 0.1162\n",
      "Epoch 49/100\n",
      "540/540 [==============================] - 0s 750us/step - loss: 0.1155 - val_loss: 0.1123\n",
      "Epoch 50/100\n",
      "540/540 [==============================] - 0s 785us/step - loss: 0.1109 - val_loss: 0.1057\n",
      "Epoch 51/100\n",
      "540/540 [==============================] - 0s 757us/step - loss: 0.1068 - val_loss: 0.1013\n",
      "Epoch 52/100\n",
      "540/540 [==============================] - 0s 792us/step - loss: 0.1027 - val_loss: 0.0988\n",
      "Epoch 53/100\n",
      "540/540 [==============================] - 0s 762us/step - loss: 0.0993 - val_loss: 0.0948\n",
      "Epoch 54/100\n",
      "540/540 [==============================] - 0s 755us/step - loss: 0.0954 - val_loss: 0.0924\n",
      "Epoch 55/100\n",
      "540/540 [==============================] - 0s 773us/step - loss: 0.0917 - val_loss: 0.0901\n",
      "Epoch 56/100\n",
      "540/540 [==============================] - 0s 755us/step - loss: 0.0885 - val_loss: 0.0881\n",
      "Epoch 57/100\n",
      "540/540 [==============================] - 0s 804us/step - loss: 0.0859 - val_loss: 0.0833\n",
      "Epoch 58/100\n",
      "540/540 [==============================] - 0s 754us/step - loss: 0.0821 - val_loss: 0.0806\n",
      "Epoch 59/100\n",
      "540/540 [==============================] - 0s 769us/step - loss: 0.0796 - val_loss: 0.0778\n",
      "Epoch 60/100\n",
      "540/540 [==============================] - 0s 766us/step - loss: 0.0775 - val_loss: 0.0762\n",
      "Epoch 61/100\n",
      "540/540 [==============================] - 0s 759us/step - loss: 0.0754 - val_loss: 0.0730\n",
      "Epoch 62/100\n",
      "540/540 [==============================] - 0s 795us/step - loss: 0.0725 - val_loss: 0.0711\n",
      "Epoch 63/100\n",
      "540/540 [==============================] - 0s 766us/step - loss: 0.0699 - val_loss: 0.0686\n",
      "Epoch 64/100\n",
      "540/540 [==============================] - 0s 773us/step - loss: 0.0678 - val_loss: 0.0687\n",
      "Epoch 65/100\n",
      "540/540 [==============================] - 0s 752us/step - loss: 0.0660 - val_loss: 0.0653\n",
      "Epoch 66/100\n",
      "540/540 [==============================] - 0s 759us/step - loss: 0.0639 - val_loss: 0.0648\n",
      "Epoch 67/100\n",
      "540/540 [==============================] - 0s 798us/step - loss: 0.0628 - val_loss: 0.0618\n",
      "Epoch 68/100\n",
      "540/540 [==============================] - 0s 757us/step - loss: 0.0601 - val_loss: 0.0603\n",
      "Epoch 69/100\n",
      "540/540 [==============================] - 0s 774us/step - loss: 0.0588 - val_loss: 0.0589\n",
      "Epoch 70/100\n",
      "540/540 [==============================] - 0s 762us/step - loss: 0.0567 - val_loss: 0.0579\n",
      "Epoch 71/100\n",
      "540/540 [==============================] - 0s 758us/step - loss: 0.0557 - val_loss: 0.0591\n",
      "Epoch 72/100\n",
      "540/540 [==============================] - 0s 785us/step - loss: 0.0551 - val_loss: 0.0552\n",
      "Epoch 73/100\n",
      "540/540 [==============================] - 0s 764us/step - loss: 0.0534 - val_loss: 0.0552\n",
      "Epoch 74/100\n",
      "540/540 [==============================] - 0s 787us/step - loss: 0.0508 - val_loss: 0.0527\n",
      "Epoch 75/100\n",
      "540/540 [==============================] - 0s 771us/step - loss: 0.0495 - val_loss: 0.0515\n",
      "Epoch 76/100\n",
      "540/540 [==============================] - 0s 758us/step - loss: 0.0482 - val_loss: 0.0498\n",
      "Epoch 77/100\n",
      "540/540 [==============================] - 0s 792us/step - loss: 0.0470 - val_loss: 0.0509\n",
      "Epoch 78/100\n",
      "540/540 [==============================] - 0s 752us/step - loss: 0.0471 - val_loss: 0.0489\n",
      "Epoch 79/100\n"
     ]
    },
    {
     "name": "stdout",
     "output_type": "stream",
     "text": [
      "540/540 [==============================] - 0s 771us/step - loss: 0.0446 - val_loss: 0.0465\n",
      "Epoch 80/100\n",
      "540/540 [==============================] - 0s 755us/step - loss: 0.0426 - val_loss: 0.0457\n",
      "Epoch 81/100\n",
      "540/540 [==============================] - 0s 751us/step - loss: 0.0411 - val_loss: 0.0445\n",
      "Epoch 82/100\n",
      "540/540 [==============================] - 0s 783us/step - loss: 0.0400 - val_loss: 0.0436\n",
      "Epoch 83/100\n",
      "540/540 [==============================] - 0s 750us/step - loss: 0.0394 - val_loss: 0.0434\n",
      "Epoch 84/100\n",
      "540/540 [==============================] - 0s 765us/step - loss: 0.0379 - val_loss: 0.0418\n",
      "Epoch 85/100\n",
      "540/540 [==============================] - 0s 752us/step - loss: 0.0368 - val_loss: 0.0404\n",
      "Epoch 86/100\n",
      "540/540 [==============================] - 0s 744us/step - loss: 0.0360 - val_loss: 0.0393\n",
      "Epoch 87/100\n",
      "540/540 [==============================] - 0s 785us/step - loss: 0.0354 - val_loss: 0.0388\n",
      "Epoch 88/100\n",
      "540/540 [==============================] - 0s 744us/step - loss: 0.0344 - val_loss: 0.0385\n",
      "Epoch 89/100\n",
      "540/540 [==============================] - 0s 770us/step - loss: 0.0348 - val_loss: 0.0372\n",
      "Epoch 90/100\n",
      "540/540 [==============================] - 0s 742us/step - loss: 0.0342 - val_loss: 0.0391\n",
      "Epoch 91/100\n",
      "540/540 [==============================] - 0s 750us/step - loss: 0.0324 - val_loss: 0.0361\n",
      "Epoch 92/100\n",
      "540/540 [==============================] - 0s 770us/step - loss: 0.0323 - val_loss: 0.0366\n",
      "Epoch 93/100\n",
      "540/540 [==============================] - 0s 747us/step - loss: 0.0315 - val_loss: 0.0364\n",
      "Epoch 94/100\n",
      "540/540 [==============================] - 0s 763us/step - loss: 0.0306 - val_loss: 0.0339\n",
      "Epoch 95/100\n",
      "540/540 [==============================] - 0s 750us/step - loss: 0.0294 - val_loss: 0.0343\n",
      "Epoch 96/100\n",
      "540/540 [==============================] - 0s 747us/step - loss: 0.0291 - val_loss: 0.0323\n",
      "Epoch 97/100\n",
      "540/540 [==============================] - 0s 777us/step - loss: 0.0287 - val_loss: 0.0325\n",
      "Epoch 98/100\n",
      "540/540 [==============================] - 0s 763us/step - loss: 0.0292 - val_loss: 0.0338\n",
      "Epoch 99/100\n",
      "540/540 [==============================] - 0s 766us/step - loss: 0.0289 - val_loss: 0.0321\n",
      "Epoch 100/100\n",
      "540/540 [==============================] - 0s 745us/step - loss: 0.0274 - val_loss: 0.0301\n"
     ]
    },
    {
     "data": {
      "text/plain": [
       "<keras.callbacks.History at 0x7eff1ca92d90>"
      ]
     },
     "execution_count": 53,
     "metadata": {},
     "output_type": "execute_result"
    }
   ],
   "source": [
    "model.fit(x_train,x_train, batch_size=50, epochs=100, validation_data=(x_val, x_val))"
   ]
  },
  {
   "cell_type": "code",
   "execution_count": null,
   "metadata": {},
   "outputs": [],
   "source": []
  }
 ],
 "metadata": {
  "kernelspec": {
   "display_name": "Python 3",
   "language": "python",
   "name": "python3"
  },
  "language_info": {
   "codemirror_mode": {
    "name": "ipython",
    "version": 3
   },
   "file_extension": ".py",
   "mimetype": "text/x-python",
   "name": "python",
   "nbconvert_exporter": "python",
   "pygments_lexer": "ipython3",
   "version": "3.7.4"
  }
 },
 "nbformat": 4,
 "nbformat_minor": 2
}
