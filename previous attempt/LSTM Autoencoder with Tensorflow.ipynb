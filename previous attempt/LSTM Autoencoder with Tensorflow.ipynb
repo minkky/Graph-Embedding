{
 "cells": [
  {
   "cell_type": "code",
   "execution_count": 1,
   "metadata": {},
   "outputs": [
    {
     "name": "stderr",
     "output_type": "stream",
     "text": [
      "Using TensorFlow backend.\n"
     ]
    }
   ],
   "source": [
    "import tensorflow as tf\n",
    "import numpy as np\n",
    "import glob, os\n",
    "from sklearn.model_selection import train_test_split\n",
    "from keras.preprocessing import sequence"
   ]
  },
  {
   "cell_type": "code",
   "execution_count": 2,
   "metadata": {},
   "outputs": [],
   "source": [
    "def getData(dir):\n",
    "    all_data = []\n",
    "    for file in sorted(glob.glob(dir)):\n",
    "        datasets = []\n",
    "        for f in open(file, 'r'):\n",
    "            f = f.replace(']', '').replace('[', '').replace('\\n','')\n",
    "            (u, v, w) = f.split(',')\n",
    "            datasets.append([int(u), int(v), float(w)])\n",
    "\n",
    "        all_data.append(datasets)\n",
    "    return all_data"
   ]
  },
  {
   "cell_type": "code",
   "execution_count": 3,
   "metadata": {},
   "outputs": [],
   "source": [
    "dir = 'sequence/*'\n",
    "all_data = getData(dir)"
   ]
  },
  {
   "cell_type": "code",
   "execution_count": 21,
   "metadata": {},
   "outputs": [],
   "source": [
    "# 8:2 sperate\n",
    "x_train, x_test = train_test_split(all_data, test_size = 0.2)\n",
    "\n",
    "sequence_length_tr = []\n",
    "sequence_length_te = []\n",
    "for x in x_train:\n",
    "    sequence_length_tr.append(len(x))\n",
    "for x in x_test:\n",
    "    sequence_length_te.append(len(x))\n",
    "max_squence_length = max(max(sequence_length_tr), max(sequence_length_te))"
   ]
  },
  {
   "cell_type": "code",
   "execution_count": 26,
   "metadata": {},
   "outputs": [],
   "source": [
    "# timesteps 맞춰주기 위해서 padding 추가\n",
    "x_train = sequence.pad_sequences(x_train, padding='post', maxlen = max_squence_length)\n",
    "x_test = sequence.pad_sequences(x_test, padding='post', maxlen = max_squence_length)"
   ]
  },
  {
   "cell_type": "code",
   "execution_count": 27,
   "metadata": {},
   "outputs": [],
   "source": [
    "n_features = 3\n",
    "batch_size = 32\n",
    "epochs = 1000\n",
    "n_neurons = 5"
   ]
  },
  {
   "cell_type": "code",
   "execution_count": 28,
   "metadata": {},
   "outputs": [],
   "source": [
    "X = tf.placeholder(tf.float32, [None, max_squence_length, n_features])\n",
    "seq_length = tf.placeholder(tf.int32, [None])"
   ]
  },
  {
   "cell_type": "code",
   "execution_count": 29,
   "metadata": {},
   "outputs": [
    {
     "name": "stderr",
     "output_type": "stream",
     "text": [
      "WARNING: Logging before flag parsing goes to stderr.\n",
      "W0910 14:23:14.763907 139910020839168 deprecation.py:323] From <ipython-input-29-4ca4123af35d>:1: BasicRNNCell.__init__ (from tensorflow.python.ops.rnn_cell_impl) is deprecated and will be removed in a future version.\n",
      "Instructions for updating:\n",
      "This class is equivalent as tf.keras.layers.SimpleRNNCell, and will be replaced by that in Tensorflow 2.0.\n",
      "W0910 14:23:14.768298 139910020839168 deprecation.py:323] From <ipython-input-29-4ca4123af35d>:2: dynamic_rnn (from tensorflow.python.ops.rnn) is deprecated and will be removed in a future version.\n",
      "Instructions for updating:\n",
      "Please use `keras.layers.RNN(cell)`, which is equivalent to this API\n",
      "W0910 14:23:14.836268 139910020839168 deprecation.py:506] From /home/minji/anaconda3/envs/graph/lib/python3.7/site-packages/tensorflow/python/ops/init_ops.py:1251: calling VarianceScaling.__init__ (from tensorflow.python.ops.init_ops) with dtype is deprecated and will be removed in a future version.\n",
      "Instructions for updating:\n",
      "Call initializer instance with the dtype argument instead of passing it to the constructor\n",
      "W0910 14:23:14.841315 139910020839168 deprecation.py:506] From /home/minji/anaconda3/envs/graph/lib/python3.7/site-packages/tensorflow/python/ops/rnn_cell_impl.py:459: calling Zeros.__init__ (from tensorflow.python.ops.init_ops) with dtype is deprecated and will be removed in a future version.\n",
      "Instructions for updating:\n",
      "Call initializer instance with the dtype argument instead of passing it to the constructor\n",
      "W0910 14:23:14.894191 139910020839168 deprecation.py:323] From /home/minji/anaconda3/envs/graph/lib/python3.7/site-packages/tensorflow/python/ops/rnn.py:244: add_dispatch_support.<locals>.wrapper (from tensorflow.python.ops.array_ops) is deprecated and will be removed in a future version.\n",
      "Instructions for updating:\n",
      "Use tf.where in 2.0, which has the same broadcast rule as np.where\n"
     ]
    }
   ],
   "source": [
    "basic_cell = tf.nn.rnn_cell.BasicRNNCell(num_units=n_neurons)\n",
    "outputs, states = tf.nn.dynamic_rnn(basic_cell, X, dtype=tf.float32, sequence_length=seq_length)"
   ]
  },
  {
   "cell_type": "code",
   "execution_count": 31,
   "metadata": {},
   "outputs": [
    {
     "data": {
      "text/plain": [
       "(540,)"
      ]
     },
     "execution_count": 31,
     "metadata": {},
     "output_type": "execute_result"
    }
   ],
   "source": [
    "x_train = np.array(x_train)\n",
    "sequence_length = np.array(sequence_length_tr)\n",
    "sequence_length.shape"
   ]
  },
  {
   "cell_type": "code",
   "execution_count": 32,
   "metadata": {},
   "outputs": [],
   "source": [
    "with tf.Session() as sess:\n",
    "    tf.global_variables_initializer().run()\n",
    "    outputs_val, states_val = sess.run([outputs, states], feed_dict={X:x_train, seq_length: sequence_length})"
   ]
  },
  {
   "cell_type": "code",
   "execution_count": 33,
   "metadata": {},
   "outputs": [
    {
     "name": "stdout",
     "output_type": "stream",
     "text": [
      "outputs_val:(540, 41, 5)\n",
      "[[[ 0.7370587  -0.7085977  -0.9962466   0.9834519  -0.609181  ]\n",
      "  [ 0.6093976  -0.9146167  -0.9795989   0.9978158  -0.77537805]\n",
      "  [ 0.98437685 -0.0146181  -0.9953956   0.9197622   0.7821091 ]\n",
      "  ...\n",
      "  [ 0.          0.          0.          0.          0.        ]\n",
      "  [ 0.          0.          0.          0.          0.        ]\n",
      "  [ 0.          0.          0.          0.          0.        ]]\n",
      "\n",
      " [[ 0.79109913 -0.9991193  -0.9997015   0.9997609   0.99710506]\n",
      "  [ 0.6815129  -0.95549065 -0.65434617  0.9930543   0.15040866]\n",
      "  [ 0.7973921  -0.9998274  -0.9993251   0.9999819   0.9951826 ]\n",
      "  ...\n",
      "  [ 0.          0.          0.          0.          0.        ]\n",
      "  [ 0.          0.          0.          0.          0.        ]\n",
      "  [ 0.          0.          0.          0.          0.        ]]\n",
      "\n",
      " [[ 0.99772143 -0.7805537  -0.9999966   0.9961537   0.97322416]\n",
      "  [ 0.9983949   0.10280859 -0.9996192   0.9837928   0.30534738]\n",
      "  [ 0.9890568  -0.42574787 -0.99881876  0.98929507 -0.21550775]\n",
      "  ...\n",
      "  [ 0.          0.          0.          0.          0.        ]\n",
      "  [ 0.          0.          0.          0.          0.        ]\n",
      "  [ 0.          0.          0.          0.          0.        ]]\n",
      "\n",
      " ...\n",
      "\n",
      " [[ 0.9618744   0.2875618  -0.99845535  0.84521395 -0.01853361]\n",
      "  [ 0.981897   -0.2374918  -0.9963805   0.9620458   0.25243714]\n",
      "  [ 0.9535209  -0.31742844 -0.98638266  0.9752259  -0.54387707]\n",
      "  ...\n",
      "  [ 0.          0.          0.          0.          0.        ]\n",
      "  [ 0.          0.          0.          0.          0.        ]\n",
      "  [ 0.          0.          0.          0.          0.        ]]\n",
      "\n",
      " [[ 0.9910986   0.28577438 -0.99987334  0.9289376   0.34618986]\n",
      "  [ 0.94968927 -0.5924332  -0.9938174   0.99141693 -0.8173595 ]\n",
      "  [ 0.67401373 -0.96041155 -0.99751246  0.99962044 -0.7412841 ]\n",
      "  ...\n",
      "  [ 0.          0.          0.          0.          0.        ]\n",
      "  [ 0.          0.          0.          0.          0.        ]\n",
      "  [ 0.          0.          0.          0.          0.        ]]\n",
      "\n",
      " [[ 0.9999842  -0.15937574 -1.          0.9989755   0.98596   ]\n",
      "  [ 0.99989986 -0.37436345 -0.99999934  0.99955386 -0.05850716]\n",
      "  [ 0.99482304 -0.12067492 -0.9999724   0.9990956  -0.9758554 ]\n",
      "  ...\n",
      "  [ 0.          0.          0.          0.          0.        ]\n",
      "  [ 0.          0.          0.          0.          0.        ]\n",
      "  [ 0.          0.          0.          0.          0.        ]]]\n"
     ]
    }
   ],
   "source": [
    "print('outputs_val:{}\\n{}'.format(outputs_val.shape, outputs_val))"
   ]
  },
  {
   "cell_type": "code",
   "execution_count": null,
   "metadata": {},
   "outputs": [],
   "source": []
  }
 ],
 "metadata": {
  "kernelspec": {
   "display_name": "Python 3",
   "language": "python",
   "name": "python3"
  },
  "language_info": {
   "codemirror_mode": {
    "name": "ipython",
    "version": 3
   },
   "file_extension": ".py",
   "mimetype": "text/x-python",
   "name": "python",
   "nbconvert_exporter": "python",
   "pygments_lexer": "ipython3",
   "version": "3.7.4"
  }
 },
 "nbformat": 4,
 "nbformat_minor": 2
}
