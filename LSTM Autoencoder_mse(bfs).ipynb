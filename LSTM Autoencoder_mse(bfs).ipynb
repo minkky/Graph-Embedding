{
 "cells": [
  {
   "cell_type": "code",
   "execution_count": 1,
   "metadata": {},
   "outputs": [
    {
     "name": "stderr",
     "output_type": "stream",
     "text": [
      "Using TensorFlow backend.\n"
     ]
    }
   ],
   "source": [
    "import numpy as np\n",
    "import glob, os\n",
    "from keras import layers as ly\n",
    "from keras.models import Sequential, load_model, Model\n",
    "from keras.layers import LSTM, Dense, RepeatVector, TimeDistributed\n",
    "from keras.preprocessing import sequence\n",
    "from sklearn.model_selection import train_test_split\n",
    "from keras.optimizers import Adam\n",
    "from keras.layers import Input, Lambda\n",
    "from keras import losses\n",
    "from keras.models import model_from_json\n",
    "import keras.backend.tensorflow_backend as K\n",
    "from keras.callbacks import ModelCheckpoint, EarlyStopping"
   ]
  },
  {
   "cell_type": "code",
   "execution_count": 2,
   "metadata": {},
   "outputs": [],
   "source": [
    "#dir = './sequence/*'\n",
    "dir = './latest_sequence/bfs/*'"
   ]
  },
  {
   "cell_type": "code",
   "execution_count": 3,
   "metadata": {},
   "outputs": [],
   "source": [
    "# file read\n",
    "all_data = []\n",
    "sequence_length = []\n",
    "name = []\n",
    "for file in sorted(glob.glob(dir)):\n",
    "    name.append(file.split('/')[-1].replace('.txt', ''))\n",
    "    datasets = []\n",
    "    for f in open(file, 'r'):\n",
    "        f = f.replace(']', '').replace('[', '').replace('\\n','')\n",
    "        (u, v, w) = f.split(',')\n",
    "        datasets.append([int(u), int(v), float(w)])\n",
    "    sequence_length.append(len(datasets))\n",
    "    all_data.append(datasets)\n",
    "#all_data = np.array(all_data)\n",
    "all_data = np.array([np.array(arr) for arr in all_data])"
   ]
  },
  {
   "cell_type": "code",
   "execution_count": 4,
   "metadata": {},
   "outputs": [],
   "source": [
    "x_train, x_test, train_name, test_name = train_test_split(all_data, name, test_size=0.3)\n",
    "x_test, x_val, test_name, val_name = train_test_split(x_test, test_name, test_size=0.33)"
   ]
  },
  {
   "cell_type": "code",
   "execution_count": 5,
   "metadata": {},
   "outputs": [],
   "source": [
    "train_name\n",
    "tr_names= []\n",
    "for name in train_name:\n",
    "    tr_names.append(name.split('-')[0].replace('graph', ''))"
   ]
  },
  {
   "cell_type": "code",
   "execution_count": 6,
   "metadata": {},
   "outputs": [],
   "source": [
    "max_sequence_length = max(sequence_length)\n",
    "n_features = 3\n",
    "batch_size = 32\n",
    "epochs = 500\n",
    "steps_per_epoch = len(x_train)"
   ]
  },
  {
   "cell_type": "code",
   "execution_count": 7,
   "metadata": {},
   "outputs": [],
   "source": [
    "def custom_loss(y_true, y_pred):\n",
    "    loss1 = losses.mean_squared_error(y_true, y_pred)\n",
    "    #loss2 = losses.kld(y_true, y_pred)\n",
    "    return loss1# * 0.7 + loss2 * 0.3"
   ]
  },
  {
   "cell_type": "code",
   "execution_count": 8,
   "metadata": {
    "scrolled": true
   },
   "outputs": [
    {
     "name": "stderr",
     "output_type": "stream",
     "text": [
      "WARNING: Logging before flag parsing goes to stderr.\n",
      "W1004 17:05:08.948562 140032041629440 deprecation_wrapper.py:119] From /home/minji/.local/lib/python3.7/site-packages/keras/backend/tensorflow_backend.py:66: The name tf.get_default_graph is deprecated. Please use tf.compat.v1.get_default_graph instead.\n",
      "\n",
      "W1004 17:05:08.957369 140032041629440 deprecation_wrapper.py:119] From /home/minji/.local/lib/python3.7/site-packages/keras/backend/tensorflow_backend.py:541: The name tf.placeholder is deprecated. Please use tf.compat.v1.placeholder instead.\n",
      "\n",
      "W1004 17:05:08.960045 140032041629440 deprecation_wrapper.py:119] From /home/minji/.local/lib/python3.7/site-packages/keras/backend/tensorflow_backend.py:4432: The name tf.random_uniform is deprecated. Please use tf.random.uniform instead.\n",
      "\n",
      "W1004 17:05:09.766134 140032041629440 deprecation_wrapper.py:119] From /home/minji/.local/lib/python3.7/site-packages/keras/optimizers.py:793: The name tf.train.Optimizer is deprecated. Please use tf.compat.v1.train.Optimizer instead.\n",
      "\n"
     ]
    }
   ],
   "source": [
    "def repeat_vector(args):\n",
    "    layer_to_repeat = args[0]\n",
    "    sequence_layer = args[1]\n",
    "    return RepeatVector(K.shape(sequence_layer)[1])(layer_to_repeat)\n",
    "    \n",
    "\n",
    "inputs = Input(shape=(None, 3))\n",
    "encoded = LSTM(128, return_sequences=True)(inputs)  #activation 안적으면 tanh\n",
    "encoded = LSTM(64)(encoded)\n",
    "\n",
    "decoded = Lambda(repeat_vector, output_shape=(None, 64)) ([encoded, inputs]) # inputs의 shape[1] 만큼 encoded 를 반복 생성\n",
    "\n",
    "decoded = LSTM(64, return_sequences=True)(decoded)\n",
    "decoded = LSTM(128, return_sequences=True)(decoded)\n",
    "decoded = TimeDistributed(Dense(3))(decoded)\n",
    "encoder = Model(inputs, encoded)\n",
    "\n",
    "lstm_autoencoder = Model(inputs, decoded)\n",
    "lstm_autoencoder.compile(loss=losses.mean_squared_error, optimizer='adam')\n",
    "#lstm_autoencoder_500 = lstm_autoencoder"
   ]
  },
  {
   "cell_type": "code",
   "execution_count": 9,
   "metadata": {},
   "outputs": [],
   "source": [
    "def train_generator(x_train):\n",
    "    idx = 0\n",
    "    while True:\n",
    "        yield np.array([x_train[idx]]), np.array([x_train[idx]])\n",
    "        idx +=1\n",
    "        if idx >= len(x_train):\n",
    "            idx = 0"
   ]
  },
  {
   "cell_type": "code",
   "execution_count": 12,
   "metadata": {},
   "outputs": [],
   "source": [
    "model_path = 'mse_weights/weights' + '{epoch:02d}-{loss:.4f}.h5'\n",
    "early_stopping_callback = EarlyStopping(monitor='loss', patience=50)\n",
    "checkpoint_callback = ModelCheckpoint(model_path, monitor='loss', verbose = 1, save_best_only = True, save_weights_only = True, mode='min')#, period=5)"
   ]
  },
  {
   "cell_type": "code",
   "execution_count": null,
   "metadata": {
    "scrolled": true
   },
   "outputs": [
    {
     "name": "stdout",
     "output_type": "stream",
     "text": [
      "Epoch 1/350\n",
      "2360/2360 [==============================] - 28s 12ms/step - loss: 13.2600\n",
      "\n",
      "Epoch 00001: loss improved from inf to 13.25999, saving model to mse_weights/weights01-13.2600.h5\n",
      "Epoch 2/350\n",
      "2360/2360 [==============================] - 29s 12ms/step - loss: 11.5060\n",
      "\n",
      "Epoch 00002: loss improved from 13.25999 to 11.50604, saving model to mse_weights/weights02-11.5060.h5\n",
      "Epoch 3/350\n",
      "2360/2360 [==============================] - 28s 12ms/step - loss: 10.4553\n",
      "\n",
      "Epoch 00003: loss improved from 11.50604 to 10.45532, saving model to mse_weights/weights03-10.4553.h5\n",
      "Epoch 4/350\n",
      "2360/2360 [==============================] - 29s 12ms/step - loss: 10.0031\n",
      "\n",
      "Epoch 00004: loss improved from 10.45532 to 10.00314, saving model to mse_weights/weights04-10.0031.h5\n",
      "Epoch 5/350\n",
      "2360/2360 [==============================] - 28s 12ms/step - loss: 8.8913\n",
      "\n",
      "Epoch 00005: loss improved from 10.00314 to 8.89134, saving model to mse_weights/weights05-8.8913.h5\n",
      "Epoch 6/350\n",
      "2360/2360 [==============================] - 29s 12ms/step - loss: 7.7484\n",
      "\n",
      "Epoch 00006: loss improved from 8.89134 to 7.74840, saving model to mse_weights/weights06-7.7484.h5\n",
      "Epoch 7/350\n",
      "2360/2360 [==============================] - 29s 12ms/step - loss: 6.6684\n",
      "\n",
      "Epoch 00007: loss improved from 7.74840 to 6.66842, saving model to mse_weights/weights07-6.6684.h5\n",
      "Epoch 8/350\n",
      "2360/2360 [==============================] - 29s 12ms/step - loss: 5.9526\n",
      "\n",
      "Epoch 00008: loss improved from 6.66842 to 5.95262, saving model to mse_weights/weights08-5.9526.h5\n",
      "Epoch 9/350\n",
      "2360/2360 [==============================] - 29s 12ms/step - loss: 5.6614\n",
      "\n",
      "Epoch 00009: loss improved from 5.95262 to 5.66136, saving model to mse_weights/weights09-5.6614.h5\n",
      "Epoch 10/350\n",
      "2360/2360 [==============================] - 29s 12ms/step - loss: 5.3967\n",
      "\n",
      "Epoch 00010: loss improved from 5.66136 to 5.39669, saving model to mse_weights/weights10-5.3967.h5\n",
      "Epoch 11/350\n",
      "2360/2360 [==============================] - 29s 12ms/step - loss: 4.6695\n",
      "\n",
      "Epoch 00011: loss improved from 5.39669 to 4.66951, saving model to mse_weights/weights11-4.6695.h5\n",
      "Epoch 12/350\n",
      "2360/2360 [==============================] - 29s 12ms/step - loss: 4.3883\n",
      "\n",
      "Epoch 00012: loss improved from 4.66951 to 4.38833, saving model to mse_weights/weights12-4.3883.h5\n",
      "Epoch 13/350\n",
      "2360/2360 [==============================] - 28s 12ms/step - loss: 3.9528\n",
      "\n",
      "Epoch 00013: loss improved from 4.38833 to 3.95283, saving model to mse_weights/weights13-3.9528.h5\n",
      "Epoch 14/350\n",
      "2360/2360 [==============================] - 28s 12ms/step - loss: 3.8353\n",
      "\n",
      "Epoch 00014: loss improved from 3.95283 to 3.83525, saving model to mse_weights/weights14-3.8353.h5\n",
      "Epoch 15/350\n",
      "2360/2360 [==============================] - 28s 12ms/step - loss: 3.9288\n",
      "\n",
      "Epoch 00015: loss did not improve from 3.83525\n",
      "Epoch 16/350\n",
      "2360/2360 [==============================] - 30s 13ms/step - loss: 3.4539\n",
      "\n",
      "Epoch 00016: loss improved from 3.83525 to 3.45385, saving model to mse_weights/weights16-3.4539.h5\n",
      "Epoch 17/350\n",
      "2360/2360 [==============================] - 29s 12ms/step - loss: 3.0166\n",
      "\n",
      "Epoch 00017: loss improved from 3.45385 to 3.01662, saving model to mse_weights/weights17-3.0166.h5\n",
      "Epoch 18/350\n",
      "2360/2360 [==============================] - 29s 12ms/step - loss: 3.1827\n",
      "\n",
      "Epoch 00018: loss did not improve from 3.01662\n",
      "Epoch 19/350\n",
      "2360/2360 [==============================] - 29s 12ms/step - loss: 3.0485\n",
      "\n",
      "Epoch 00019: loss did not improve from 3.01662\n",
      "Epoch 20/350\n",
      "2360/2360 [==============================] - 30s 13ms/step - loss: 2.8776\n",
      "\n",
      "Epoch 00020: loss improved from 3.01662 to 2.87763, saving model to mse_weights/weights20-2.8776.h5\n",
      "Epoch 21/350\n",
      " 129/2360 [>.............................] - ETA: 27s - loss: 3.5806"
     ]
    }
   ],
   "source": [
    "lstm_autoencoder.fit_generator(train_generator(x_train), epochs=350, steps_per_epoch=steps_per_epoch, verbose=1, callbacks=[early_stopping_callback, checkpoint_callback])"
   ]
  },
  {
   "cell_type": "code",
   "execution_count": null,
   "metadata": {},
   "outputs": [],
   "source": [
    "model_json = lstm_autoencoder.to_json()\n",
    "filename = input('filename: ')\n",
    "with open('model/' + filename + '.json', 'w') as file:\n",
    "    file.write(model_json)\n",
    "lstm_autoencoder.save_weights('mse_weights/weights_' +  filename + '.h5')"
   ]
  },
  {
   "cell_type": "code",
   "execution_count": null,
   "metadata": {},
   "outputs": [],
   "source": [
    "loaded_model = model_from_json(open('model/' +filename + '.json').read())\n",
    "loaded_model.load_weights('mse_weights/weights_' + filename + '.h5')"
   ]
  },
  {
   "cell_type": "code",
   "execution_count": null,
   "metadata": {},
   "outputs": [],
   "source": [
    "mean= 0\n",
    "for xt in x_test:\n",
    "    xt = xt.reshape(1, xt.shape[0], xt.shape[1])\n",
    "    out = loaded_model.predict(xt)\n",
    "    mean += ((xt-out)**2).mean(axis=None)\n",
    "print(mean/len(x_test))"
   ]
  },
  {
   "cell_type": "code",
   "execution_count": null,
   "metadata": {},
   "outputs": [],
   "source": [
    "encoder = Model(loaded_model.input, loaded_model.layers[3].output)"
   ]
  },
  {
   "cell_type": "code",
   "execution_count": null,
   "metadata": {},
   "outputs": [],
   "source": [
    "test = x_test[0].reshape(1, x_test[0].shape[0], x_test[0].shape[1])\n",
    "latent_vector = []\n",
    "for x in x_test:\n",
    "    x = x.reshape(1, x.shape[0], x.shape[1])\n",
    "    latent_vector.append(encoder.predict(x)[0])"
   ]
  }
 ],
 "metadata": {
  "kernelspec": {
   "display_name": "Python 3",
   "language": "python",
   "name": "python3"
  },
  "language_info": {
   "codemirror_mode": {
    "name": "ipython",
    "version": 3
   },
   "file_extension": ".py",
   "mimetype": "text/x-python",
   "name": "python",
   "nbconvert_exporter": "python",
   "pygments_lexer": "ipython3",
   "version": "3.7.4"
  }
 },
 "nbformat": 4,
 "nbformat_minor": 2
}
