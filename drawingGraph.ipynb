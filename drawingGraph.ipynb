{
 "cells": [
  {
   "cell_type": "code",
   "execution_count": 101,
   "metadata": {},
   "outputs": [],
   "source": [
    "import networkx as nx\n",
    "import glob\n",
    "import numpy as np\n",
    "import matplotlib.pyplot as plt\n",
    "import warnings\n",
    "warnings.filterwarnings(\"ignore\", category=UserWarning)"
   ]
  },
  {
   "cell_type": "code",
   "execution_count": 143,
   "metadata": {},
   "outputs": [],
   "source": [
    "def getGraphsAndNames(directory):\n",
    "    graphs = []\n",
    "    filenames = []\n",
    "    \n",
    "    for file in sorted(glob.glob(directory)):\n",
    "        filenames.append(file.split('/')[1].split('-')[0])\n",
    "        with open(file) as f:\n",
    "            graph = []\n",
    "            for line in f.readlines():\n",
    "                u, v, w = line[1:-2].split(', ')\n",
    "                graph.append((int(u), int(v), float(w)))\n",
    "        graphs.append(graph)\n",
    "    return graphs, filenames"
   ]
  },
  {
   "cell_type": "code",
   "execution_count": 201,
   "metadata": {},
   "outputs": [],
   "source": [
    "def drawGraph(dr, name, index, graph, save):\n",
    "    plt.figure(index)\n",
    "    plt.title(name)\n",
    "    G = nx.Graph()\n",
    "    G.add_weighted_edges_from(graph)\n",
    "    pos = nx.spring_layout(G)\n",
    "    nx.draw(G, pos, with_labels=True)\n",
    "    labels = nx.get_edge_attributes(G, 'weight')\n",
    "    nx.draw_networkx_edge_labels(G, pos, edge_labels=labels)\n",
    "    if save:\n",
    "        plt.savefig(dr + str(index) + \".png\")\n",
    "    plt.show()"
   ]
  },
  {
   "cell_type": "code",
   "execution_count": null,
   "metadata": {},
   "outputs": [],
   "source": []
  }
 ],
 "metadata": {
  "kernelspec": {
   "display_name": "Python 3",
   "language": "python",
   "name": "python3"
  },
  "language_info": {
   "codemirror_mode": {
    "name": "ipython",
    "version": 3
   },
   "file_extension": ".py",
   "mimetype": "text/x-python",
   "name": "python",
   "nbconvert_exporter": "python",
   "pygments_lexer": "ipython3",
   "version": "3.7.4"
  }
 },
 "nbformat": 4,
 "nbformat_minor": 2
}
