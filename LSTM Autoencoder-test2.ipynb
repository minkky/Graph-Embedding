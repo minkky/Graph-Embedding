{
 "cells": [
  {
   "cell_type": "code",
   "execution_count": 1,
   "metadata": {},
   "outputs": [
    {
     "name": "stderr",
     "output_type": "stream",
     "text": [
      "Using TensorFlow backend.\n"
     ]
    }
   ],
   "source": [
    "import numpy as np\n",
    "import glob, os\n",
    "from keras.models import Sequential\n",
    "from keras.layers import LSTM, Input\n",
    "from keras.layers import Dense\n",
    "from keras.layers import RepeatVector\n",
    "from keras.layers import TimeDistributed\n",
    "from keras.preprocessing import sequence\n",
    "from sklearn.model_selection import train_test_split\n",
    "import keras.backend as K"
   ]
  },
  {
   "cell_type": "code",
   "execution_count": 2,
   "metadata": {},
   "outputs": [],
   "source": [
    "dir = './sequence/*'"
   ]
  },
  {
   "cell_type": "code",
   "execution_count": 42,
   "metadata": {},
   "outputs": [],
   "source": [
    "# file read\n",
    "all_data = []\n",
    "sequence_length = []\n",
    "for file in sorted(glob.glob(dir)):\n",
    "    datasets = []\n",
    "    for f in open(file, 'r'):\n",
    "        f = f.replace(']', '').replace('[', '').replace('\\n','')\n",
    "        (u, v, w) = f.split(',')\n",
    "        datasets.append([int(u), int(v), float(w)])\n",
    "        if len(datasets) == 9:\n",
    "            break\n",
    "    sequence_length.append(len(datasets))\n",
    "    all_data.append(datasets)\n",
    "#all_data = np.array(all_data)"
   ]
  },
  {
   "cell_type": "code",
   "execution_count": 43,
   "metadata": {},
   "outputs": [],
   "source": [
    "max_sequence_length = max(sequence_length)\n",
    "n_features = 3\n",
    "batch_size = 540\n",
    "epochs = 1000"
   ]
  },
  {
   "cell_type": "code",
   "execution_count": 44,
   "metadata": {},
   "outputs": [
    {
     "data": {
      "text/plain": [
       "9"
      ]
     },
     "execution_count": 44,
     "metadata": {},
     "output_type": "execute_result"
    }
   ],
   "source": [
    "# timesteps 맞춰주기 위해서 padding 추가\n",
    "all_data = sequence.pad_sequences(all_data, padding='post', maxlen = max_sequence_length)\n",
    "max_sequence_length"
   ]
  },
  {
   "cell_type": "code",
   "execution_count": 45,
   "metadata": {},
   "outputs": [],
   "source": [
    "x_train, x_test = train_test_split(all_data, test_size = 0.2)\n",
    "x_test, x_val = train_test_split(x_test, test_size = 0.66)"
   ]
  },
  {
   "cell_type": "code",
   "execution_count": 50,
   "metadata": {},
   "outputs": [],
   "source": [
    "model = Sequential()\n",
    "model.add(LSTM(100,  input_shape=(9, 3)))\n",
    "model.add(RepeatVector(9))\n",
    "model.add(LSTM(3, return_sequences=True))"
   ]
  },
  {
   "cell_type": "code",
   "execution_count": 51,
   "metadata": {},
   "outputs": [
    {
     "name": "stdout",
     "output_type": "stream",
     "text": [
      "Model: \"sequential_10\"\n",
      "_________________________________________________________________\n",
      "Layer (type)                 Output Shape              Param #   \n",
      "=================================================================\n",
      "lstm_17 (LSTM)               (None, 100)               41600     \n",
      "_________________________________________________________________\n",
      "repeat_vector_7 (RepeatVecto (None, 9, 100)            0         \n",
      "_________________________________________________________________\n",
      "lstm_18 (LSTM)               (None, 9, 3)              1248      \n",
      "=================================================================\n",
      "Total params: 42,848\n",
      "Trainable params: 42,848\n",
      "Non-trainable params: 0\n",
      "_________________________________________________________________\n"
     ]
    }
   ],
   "source": [
    "model.summary()"
   ]
  },
  {
   "cell_type": "code",
   "execution_count": 52,
   "metadata": {},
   "outputs": [],
   "source": [
    "model.compile(loss='mean_squared_error', optimizer='adam')"
   ]
  },
  {
   "cell_type": "code",
   "execution_count": 53,
   "metadata": {
    "scrolled": true
   },
   "outputs": [
    {
     "name": "stdout",
     "output_type": "stream",
     "text": [
      "Train on 540 samples, validate on 90 samples\n",
      "Epoch 1/100\n",
      "540/540 [==============================] - 1s 2ms/step - loss: 17.3435 - val_loss: 15.3908\n",
      "Epoch 2/100\n",
      "540/540 [==============================] - 0s 124us/step - loss: 14.4750 - val_loss: 13.7336\n",
      "Epoch 3/100\n",
      "540/540 [==============================] - 0s 115us/step - loss: 13.7409 - val_loss: 13.6338\n",
      "Epoch 4/100\n",
      "540/540 [==============================] - 0s 123us/step - loss: 13.6834 - val_loss: 13.6150\n",
      "Epoch 5/100\n",
      "540/540 [==============================] - 0s 114us/step - loss: 13.6767 - val_loss: 13.6127\n",
      "Epoch 6/100\n",
      "540/540 [==============================] - 0s 113us/step - loss: 13.6753 - val_loss: 13.6120\n",
      "Epoch 7/100\n",
      "540/540 [==============================] - 0s 119us/step - loss: 13.6748 - val_loss: 13.6116\n",
      "Epoch 8/100\n",
      "540/540 [==============================] - 0s 111us/step - loss: 13.6745 - val_loss: 13.6113\n",
      "Epoch 9/100\n",
      "540/540 [==============================] - 0s 120us/step - loss: 13.6743 - val_loss: 13.6112\n",
      "Epoch 10/100\n",
      "540/540 [==============================] - 0s 120us/step - loss: 13.6741 - val_loss: 13.6111\n",
      "Epoch 11/100\n",
      "540/540 [==============================] - 0s 125us/step - loss: 13.6740 - val_loss: 13.6110\n",
      "Epoch 12/100\n",
      "540/540 [==============================] - 0s 120us/step - loss: 13.6740 - val_loss: 13.6109\n",
      "Epoch 13/100\n",
      "540/540 [==============================] - 0s 147us/step - loss: 13.6739 - val_loss: 13.6108\n",
      "Epoch 14/100\n",
      "540/540 [==============================] - 0s 121us/step - loss: 13.6738 - val_loss: 13.6108\n",
      "Epoch 15/100\n",
      "540/540 [==============================] - 0s 124us/step - loss: 13.6738 - val_loss: 13.6107\n",
      "Epoch 16/100\n",
      "540/540 [==============================] - 0s 117us/step - loss: 13.6737 - val_loss: 13.6107\n",
      "Epoch 17/100\n",
      "540/540 [==============================] - 0s 124us/step - loss: 13.6737 - val_loss: 13.6106\n",
      "Epoch 18/100\n",
      "540/540 [==============================] - 0s 124us/step - loss: 13.6736 - val_loss: 13.6106\n",
      "Epoch 19/100\n",
      "540/540 [==============================] - 0s 129us/step - loss: 13.6736 - val_loss: 13.6106\n",
      "Epoch 20/100\n",
      "540/540 [==============================] - 0s 126us/step - loss: 13.6736 - val_loss: 13.6105\n",
      "Epoch 21/100\n",
      "540/540 [==============================] - 0s 138us/step - loss: 13.6735 - val_loss: 13.6105\n",
      "Epoch 22/100\n",
      "540/540 [==============================] - 0s 125us/step - loss: 13.6735 - val_loss: 13.6105\n",
      "Epoch 23/100\n",
      "540/540 [==============================] - 0s 114us/step - loss: 13.6735 - val_loss: 13.6105\n",
      "Epoch 24/100\n",
      "540/540 [==============================] - 0s 125us/step - loss: 13.6735 - val_loss: 13.6104\n",
      "Epoch 25/100\n",
      "540/540 [==============================] - 0s 130us/step - loss: 13.6735 - val_loss: 13.6104\n",
      "Epoch 26/100\n",
      "540/540 [==============================] - 0s 133us/step - loss: 13.6734 - val_loss: 13.6104\n",
      "Epoch 27/100\n",
      "540/540 [==============================] - 0s 143us/step - loss: 13.6734 - val_loss: 13.6104\n",
      "Epoch 28/100\n",
      "540/540 [==============================] - 0s 135us/step - loss: 13.6734 - val_loss: 13.6104\n",
      "Epoch 29/100\n",
      "540/540 [==============================] - 0s 126us/step - loss: 13.6734 - val_loss: 13.6104\n",
      "Epoch 30/100\n",
      "540/540 [==============================] - 0s 125us/step - loss: 13.6734 - val_loss: 13.6103\n",
      "Epoch 31/100\n",
      "540/540 [==============================] - 0s 131us/step - loss: 13.6734 - val_loss: 13.6103\n",
      "Epoch 32/100\n",
      "540/540 [==============================] - 0s 128us/step - loss: 13.6734 - val_loss: 13.6103\n",
      "Epoch 33/100\n",
      "540/540 [==============================] - 0s 127us/step - loss: 13.6734 - val_loss: 13.6103\n",
      "Epoch 34/100\n",
      "540/540 [==============================] - 0s 125us/step - loss: 13.6734 - val_loss: 13.6103\n",
      "Epoch 35/100\n",
      "540/540 [==============================] - 0s 132us/step - loss: 13.6733 - val_loss: 13.6103\n",
      "Epoch 36/100\n",
      "540/540 [==============================] - 0s 126us/step - loss: 13.6733 - val_loss: 13.6103\n",
      "Epoch 37/100\n",
      "540/540 [==============================] - 0s 124us/step - loss: 13.6733 - val_loss: 13.6103\n",
      "Epoch 38/100\n",
      "540/540 [==============================] - 0s 130us/step - loss: 13.6733 - val_loss: 13.6103\n",
      "Epoch 39/100\n",
      "540/540 [==============================] - 0s 124us/step - loss: 13.6733 - val_loss: 13.6103\n",
      "Epoch 40/100\n",
      "540/540 [==============================] - 0s 126us/step - loss: 13.6733 - val_loss: 13.6103\n",
      "Epoch 41/100\n",
      "540/540 [==============================] - 0s 122us/step - loss: 13.6733 - val_loss: 13.6103\n",
      "Epoch 42/100\n",
      "540/540 [==============================] - 0s 153us/step - loss: 13.6733 - val_loss: 13.6103\n",
      "Epoch 43/100\n",
      "540/540 [==============================] - 0s 127us/step - loss: 13.6733 - val_loss: 13.6103\n",
      "Epoch 44/100\n",
      "540/540 [==============================] - 0s 127us/step - loss: 13.6733 - val_loss: 13.6102\n",
      "Epoch 45/100\n",
      "540/540 [==============================] - 0s 119us/step - loss: 13.6733 - val_loss: 13.6102\n",
      "Epoch 46/100\n",
      "540/540 [==============================] - 0s 128us/step - loss: 13.6733 - val_loss: 13.6102\n",
      "Epoch 47/100\n",
      "540/540 [==============================] - 0s 126us/step - loss: 13.6733 - val_loss: 13.6102\n",
      "Epoch 48/100\n",
      "540/540 [==============================] - 0s 124us/step - loss: 13.6733 - val_loss: 13.6102\n",
      "Epoch 49/100\n",
      "540/540 [==============================] - 0s 132us/step - loss: 13.6733 - val_loss: 13.6102\n",
      "Epoch 50/100\n",
      "540/540 [==============================] - 0s 119us/step - loss: 13.6733 - val_loss: 13.6102\n",
      "Epoch 51/100\n",
      "540/540 [==============================] - 0s 133us/step - loss: 13.6733 - val_loss: 13.6102\n",
      "Epoch 52/100\n",
      "540/540 [==============================] - 0s 144us/step - loss: 13.6733 - val_loss: 13.6102\n",
      "Epoch 53/100\n",
      "540/540 [==============================] - 0s 126us/step - loss: 13.6733 - val_loss: 13.6102\n",
      "Epoch 54/100\n",
      "540/540 [==============================] - 0s 128us/step - loss: 13.6733 - val_loss: 13.6102\n",
      "Epoch 55/100\n",
      "540/540 [==============================] - 0s 127us/step - loss: 13.6732 - val_loss: 13.6102\n",
      "Epoch 56/100\n",
      "540/540 [==============================] - 0s 126us/step - loss: 13.6732 - val_loss: 13.6102\n",
      "Epoch 57/100\n",
      "540/540 [==============================] - 0s 153us/step - loss: 13.6732 - val_loss: 13.6102\n",
      "Epoch 58/100\n",
      "540/540 [==============================] - 0s 131us/step - loss: 13.6732 - val_loss: 13.6102\n",
      "Epoch 59/100\n",
      "540/540 [==============================] - 0s 131us/step - loss: 13.6732 - val_loss: 13.6102\n",
      "Epoch 60/100\n",
      "540/540 [==============================] - 0s 126us/step - loss: 13.6732 - val_loss: 13.6102\n",
      "Epoch 61/100\n",
      "540/540 [==============================] - 0s 123us/step - loss: 13.6732 - val_loss: 13.6102\n",
      "Epoch 62/100\n",
      "540/540 [==============================] - 0s 115us/step - loss: 13.6732 - val_loss: 13.6102\n",
      "Epoch 63/100\n",
      "540/540 [==============================] - 0s 147us/step - loss: 13.6732 - val_loss: 13.6102\n",
      "Epoch 64/100\n",
      "540/540 [==============================] - 0s 125us/step - loss: 13.6732 - val_loss: 13.6102\n",
      "Epoch 65/100\n",
      "540/540 [==============================] - 0s 121us/step - loss: 13.6732 - val_loss: 13.6102\n",
      "Epoch 66/100\n",
      "540/540 [==============================] - 0s 116us/step - loss: 13.6732 - val_loss: 13.6102\n",
      "Epoch 67/100\n",
      "540/540 [==============================] - 0s 116us/step - loss: 13.6732 - val_loss: 13.6102\n",
      "Epoch 68/100\n",
      "540/540 [==============================] - 0s 122us/step - loss: 13.6732 - val_loss: 13.6102\n",
      "Epoch 69/100\n",
      "540/540 [==============================] - 0s 128us/step - loss: 13.6732 - val_loss: 13.6102\n",
      "Epoch 70/100\n",
      "540/540 [==============================] - 0s 144us/step - loss: 13.6732 - val_loss: 13.6102\n",
      "Epoch 71/100\n",
      "540/540 [==============================] - 0s 138us/step - loss: 13.6732 - val_loss: 13.6102\n",
      "Epoch 72/100\n",
      "540/540 [==============================] - 0s 154us/step - loss: 13.6732 - val_loss: 13.6102\n",
      "Epoch 73/100\n",
      "540/540 [==============================] - 0s 120us/step - loss: 13.6732 - val_loss: 13.6102\n",
      "Epoch 74/100\n",
      "540/540 [==============================] - 0s 128us/step - loss: 13.6732 - val_loss: 13.6102\n",
      "Epoch 75/100\n",
      "540/540 [==============================] - 0s 117us/step - loss: 13.6732 - val_loss: 13.6102\n",
      "Epoch 76/100\n",
      "540/540 [==============================] - 0s 138us/step - loss: 13.6732 - val_loss: 13.6102\n",
      "Epoch 77/100\n",
      "540/540 [==============================] - 0s 131us/step - loss: 13.6732 - val_loss: 13.6102\n"
     ]
    },
    {
     "name": "stdout",
     "output_type": "stream",
     "text": [
      "Epoch 78/100\n",
      "540/540 [==============================] - 0s 123us/step - loss: 13.6732 - val_loss: 13.6102\n",
      "Epoch 79/100\n",
      "540/540 [==============================] - 0s 118us/step - loss: 13.6732 - val_loss: 13.6102\n",
      "Epoch 80/100\n",
      "540/540 [==============================] - 0s 116us/step - loss: 13.6732 - val_loss: 13.6102\n",
      "Epoch 81/100\n",
      "540/540 [==============================] - 0s 123us/step - loss: 13.6732 - val_loss: 13.6102\n",
      "Epoch 82/100\n",
      "540/540 [==============================] - 0s 125us/step - loss: 13.6732 - val_loss: 13.6102\n",
      "Epoch 83/100\n",
      "540/540 [==============================] - 0s 151us/step - loss: 13.6732 - val_loss: 13.6102\n",
      "Epoch 84/100\n",
      "540/540 [==============================] - 0s 116us/step - loss: 13.6732 - val_loss: 13.6102\n",
      "Epoch 85/100\n",
      "540/540 [==============================] - 0s 124us/step - loss: 13.6732 - val_loss: 13.6102\n",
      "Epoch 86/100\n",
      "540/540 [==============================] - 0s 127us/step - loss: 13.6732 - val_loss: 13.6102\n",
      "Epoch 87/100\n",
      "540/540 [==============================] - 0s 126us/step - loss: 13.6732 - val_loss: 13.6102\n",
      "Epoch 88/100\n",
      "540/540 [==============================] - 0s 114us/step - loss: 13.6732 - val_loss: 13.6102\n",
      "Epoch 89/100\n",
      "540/540 [==============================] - 0s 116us/step - loss: 13.6732 - val_loss: 13.6102\n",
      "Epoch 90/100\n",
      "540/540 [==============================] - 0s 118us/step - loss: 13.6732 - val_loss: 13.6102\n",
      "Epoch 91/100\n",
      "540/540 [==============================] - 0s 112us/step - loss: 13.6732 - val_loss: 13.6102\n",
      "Epoch 92/100\n",
      "540/540 [==============================] - 0s 115us/step - loss: 13.6732 - val_loss: 13.6102\n",
      "Epoch 93/100\n",
      "540/540 [==============================] - 0s 111us/step - loss: 13.6732 - val_loss: 13.6102\n",
      "Epoch 94/100\n",
      "540/540 [==============================] - 0s 136us/step - loss: 13.6732 - val_loss: 13.6102\n",
      "Epoch 95/100\n",
      "540/540 [==============================] - 0s 123us/step - loss: 13.6732 - val_loss: 13.6102\n",
      "Epoch 96/100\n",
      "540/540 [==============================] - 0s 113us/step - loss: 13.6732 - val_loss: 13.6102\n",
      "Epoch 97/100\n",
      "540/540 [==============================] - 0s 117us/step - loss: 13.6732 - val_loss: 13.6102\n",
      "Epoch 98/100\n",
      "540/540 [==============================] - 0s 123us/step - loss: 13.6732 - val_loss: 13.6102\n",
      "Epoch 99/100\n",
      "540/540 [==============================] - 0s 125us/step - loss: 13.6732 - val_loss: 13.6102\n",
      "Epoch 100/100\n",
      "540/540 [==============================] - 0s 119us/step - loss: 13.6732 - val_loss: 13.6102\n"
     ]
    },
    {
     "data": {
      "text/plain": [
       "<keras.callbacks.History at 0x7f06a9b7d990>"
      ]
     },
     "execution_count": 53,
     "metadata": {},
     "output_type": "execute_result"
    }
   ],
   "source": [
    "model.fit(x_train,x_train, batch_size=50, epochs=100, validation_data=(x_val, x_val))"
   ]
  },
  {
   "cell_type": "code",
   "execution_count": 56,
   "metadata": {},
   "outputs": [],
   "source": [
    "predicted = model.predict(x_test)"
   ]
  },
  {
   "cell_type": "code",
   "execution_count": 58,
   "metadata": {},
   "outputs": [
    {
     "data": {
      "text/plain": [
       "array([[1, 2, 2],\n",
       "       [1, 3, 3],\n",
       "       [1, 4, 2],\n",
       "       [1, 5, 3],\n",
       "       [2, 3, 1],\n",
       "       [2, 4, 2],\n",
       "       [3, 4, 2],\n",
       "       [3, 5, 2],\n",
       "       [4, 5, 1]], dtype=int32)"
      ]
     },
     "execution_count": 58,
     "metadata": {},
     "output_type": "execute_result"
    }
   ],
   "source": [
    "x_test[0]"
   ]
  },
  {
   "cell_type": "code",
   "execution_count": 59,
   "metadata": {},
   "outputs": [
    {
     "data": {
      "text/plain": [
       "array([[0.76154065, 0.76150805, 0.76154697],\n",
       "       [0.96400785, 0.9639901 , 0.9640168 ],\n",
       "       [0.99505055, 0.99504596, 0.9950529 ],\n",
       "       [0.99932855, 0.9993274 , 0.99932903],\n",
       "       [0.99990904, 0.9999089 , 0.9999093 ],\n",
       "       [0.9999877 , 0.9999878 , 0.99998784],\n",
       "       [0.9999982 , 0.99999833, 0.99999845],\n",
       "       [0.99999994, 0.9999999 , 0.9999998 ],\n",
       "       [0.99999994, 1.        , 0.99999994]], dtype=float32)"
      ]
     },
     "execution_count": 59,
     "metadata": {},
     "output_type": "execute_result"
    }
   ],
   "source": [
    "predicted[0]"
   ]
  },
  {
   "cell_type": "code",
   "execution_count": null,
   "metadata": {},
   "outputs": [],
   "source": []
  }
 ],
 "metadata": {
  "kernelspec": {
   "display_name": "Python 3",
   "language": "python",
   "name": "python3"
  },
  "language_info": {
   "codemirror_mode": {
    "name": "ipython",
    "version": 3
   },
   "file_extension": ".py",
   "mimetype": "text/x-python",
   "name": "python",
   "nbconvert_exporter": "python",
   "pygments_lexer": "ipython3",
   "version": "3.7.4"
  }
 },
 "nbformat": 4,
 "nbformat_minor": 2
}
